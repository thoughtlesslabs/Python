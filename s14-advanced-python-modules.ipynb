{
 "cells": [
  {
   "cell_type": "markdown",
   "source": [
    "<h1>**Advanced Python Modules**</h1>"
   ],
   "metadata": {}
  },
  {
   "cell_type": "markdown",
   "source": [
    "**Collections Modules**"
   ],
   "metadata": {}
  },
  {
   "cell_type": "code",
   "execution_count": 1,
   "source": [
    "from collections import Counter\n",
    "\n",
    "mylist = [1,1,1,1,1,1,1,2,2,2,2,2,2,2,2,3,3,3,3,3,3,3,3]"
   ],
   "outputs": [],
   "metadata": {}
  },
  {
   "cell_type": "code",
   "execution_count": 2,
   "source": [
    "Counter(mylist)"
   ],
   "outputs": [
    {
     "output_type": "execute_result",
     "data": {
      "text/plain": [
       "Counter({1: 7, 2: 8, 3: 8})"
      ]
     },
     "metadata": {},
     "execution_count": 2
    }
   ],
   "metadata": {}
  },
  {
   "cell_type": "code",
   "execution_count": 3,
   "source": [
    "Counter('aaaaaabbbbalkbjsbsb;sb')"
   ],
   "outputs": [
    {
     "output_type": "execute_result",
     "data": {
      "text/plain": [
       "Counter({'a': 7, 'b': 8, 'l': 1, 'k': 1, 'j': 1, 's': 3, ';': 1})"
      ]
     },
     "metadata": {},
     "execution_count": 3
    }
   ],
   "metadata": {}
  },
  {
   "cell_type": "code",
   "execution_count": 7,
   "source": [
    "sentence = \"How many times does each Word show up in this word sentence of words\""
   ],
   "outputs": [],
   "metadata": {}
  },
  {
   "cell_type": "code",
   "execution_count": 8,
   "source": [
    "Counter(sentence.lower().split())"
   ],
   "outputs": [
    {
     "output_type": "execute_result",
     "data": {
      "text/plain": [
       "Counter({'how': 1,\n",
       "         'many': 1,\n",
       "         'times': 1,\n",
       "         'does': 1,\n",
       "         'each': 1,\n",
       "         'word': 2,\n",
       "         'show': 1,\n",
       "         'up': 1,\n",
       "         'in': 1,\n",
       "         'this': 1,\n",
       "         'sentence': 1,\n",
       "         'of': 1,\n",
       "         'words': 1})"
      ]
     },
     "metadata": {},
     "execution_count": 8
    }
   ],
   "metadata": {}
  },
  {
   "cell_type": "code",
   "execution_count": 9,
   "source": [
    "letters = 'aaaaabbbbbbbcccccccddddddd'"
   ],
   "outputs": [],
   "metadata": {}
  },
  {
   "cell_type": "code",
   "execution_count": 10,
   "source": [
    "c = Counter(letters)"
   ],
   "outputs": [],
   "metadata": {}
  },
  {
   "cell_type": "code",
   "execution_count": 11,
   "source": [
    "c"
   ],
   "outputs": [
    {
     "output_type": "execute_result",
     "data": {
      "text/plain": [
       "Counter({'a': 5, 'b': 7, 'c': 7, 'd': 7})"
      ]
     },
     "metadata": {},
     "execution_count": 11
    }
   ],
   "metadata": {}
  },
  {
   "cell_type": "code",
   "execution_count": 13,
   "source": [
    "c.most_common(2)"
   ],
   "outputs": [
    {
     "output_type": "execute_result",
     "data": {
      "text/plain": [
       "[('b', 7), ('c', 7)]"
      ]
     },
     "metadata": {},
     "execution_count": 13
    }
   ],
   "metadata": {}
  },
  {
   "cell_type": "code",
   "execution_count": 14,
   "source": [
    "list(c)"
   ],
   "outputs": [
    {
     "output_type": "execute_result",
     "data": {
      "text/plain": [
       "['a', 'b', 'c', 'd']"
      ]
     },
     "metadata": {},
     "execution_count": 14
    }
   ],
   "metadata": {}
  },
  {
   "cell_type": "code",
   "execution_count": 15,
   "source": [
    "c.items()"
   ],
   "outputs": [
    {
     "output_type": "execute_result",
     "data": {
      "text/plain": [
       "dict_items([('a', 5), ('b', 7), ('c', 7), ('d', 7)])"
      ]
     },
     "metadata": {},
     "execution_count": 15
    }
   ],
   "metadata": {}
  },
  {
   "cell_type": "code",
   "execution_count": 16,
   "source": [
    "c.keys()"
   ],
   "outputs": [
    {
     "output_type": "execute_result",
     "data": {
      "text/plain": [
       "dict_keys(['a', 'b', 'c', 'd'])"
      ]
     },
     "metadata": {},
     "execution_count": 16
    }
   ],
   "metadata": {}
  },
  {
   "cell_type": "code",
   "execution_count": 17,
   "source": [
    "from collections import defaultdict"
   ],
   "outputs": [],
   "metadata": {}
  },
  {
   "cell_type": "code",
   "execution_count": 18,
   "source": [
    "d = {'a':10}"
   ],
   "outputs": [],
   "metadata": {}
  },
  {
   "cell_type": "code",
   "execution_count": 19,
   "source": [
    "d['a']"
   ],
   "outputs": [
    {
     "output_type": "execute_result",
     "data": {
      "text/plain": [
       "10"
      ]
     },
     "metadata": {},
     "execution_count": 19
    }
   ],
   "metadata": {}
  },
  {
   "cell_type": "code",
   "execution_count": 20,
   "source": [
    "d['WRONG']"
   ],
   "outputs": [
    {
     "output_type": "error",
     "ename": "KeyError",
     "evalue": "'WRONG'",
     "traceback": [
      "\u001b[0;31m---------------------------------------------------------------------------\u001b[0m",
      "\u001b[0;31mKeyError\u001b[0m                                  Traceback (most recent call last)",
      "\u001b[0;32m<ipython-input-20-4006d83773ae>\u001b[0m in \u001b[0;36m<module>\u001b[0;34m\u001b[0m\n\u001b[0;32m----> 1\u001b[0;31m \u001b[0md\u001b[0m\u001b[0;34m[\u001b[0m\u001b[0;34m'WRONG'\u001b[0m\u001b[0;34m]\u001b[0m\u001b[0;34m\u001b[0m\u001b[0;34m\u001b[0m\u001b[0m\n\u001b[0m",
      "\u001b[0;31mKeyError\u001b[0m: 'WRONG'"
     ]
    }
   ],
   "metadata": {}
  },
  {
   "cell_type": "code",
   "execution_count": 21,
   "source": [
    "d = defaultdict(lambda:0)"
   ],
   "outputs": [],
   "metadata": {}
  },
  {
   "cell_type": "code",
   "execution_count": 22,
   "source": [
    "d['correct'] = 100"
   ],
   "outputs": [],
   "metadata": {}
  },
  {
   "cell_type": "code",
   "execution_count": 23,
   "source": [
    "d['correct']"
   ],
   "outputs": [
    {
     "output_type": "execute_result",
     "data": {
      "text/plain": [
       "100"
      ]
     },
     "metadata": {},
     "execution_count": 23
    }
   ],
   "metadata": {}
  },
  {
   "cell_type": "code",
   "execution_count": 24,
   "source": [
    "d['Wrong key']"
   ],
   "outputs": [
    {
     "output_type": "execute_result",
     "data": {
      "text/plain": [
       "0"
      ]
     },
     "metadata": {},
     "execution_count": 24
    }
   ],
   "metadata": {}
  },
  {
   "cell_type": "code",
   "execution_count": 25,
   "source": [
    "d"
   ],
   "outputs": [
    {
     "output_type": "execute_result",
     "data": {
      "text/plain": [
       "defaultdict(<function __main__.<lambda>()>, {'correct': 100, 'Wrong key': 0})"
      ]
     },
     "metadata": {},
     "execution_count": 25
    }
   ],
   "metadata": {}
  },
  {
   "cell_type": "code",
   "execution_count": 26,
   "source": [
    "mytuple = (10,20,30)"
   ],
   "outputs": [],
   "metadata": {}
  },
  {
   "cell_type": "code",
   "execution_count": 27,
   "source": [
    "mytuple(0)"
   ],
   "outputs": [
    {
     "output_type": "error",
     "ename": "TypeError",
     "evalue": "'tuple' object is not callable",
     "traceback": [
      "\u001b[0;31m---------------------------------------------------------------------------\u001b[0m",
      "\u001b[0;31mTypeError\u001b[0m                                 Traceback (most recent call last)",
      "\u001b[0;32m<ipython-input-27-63e84c29a773>\u001b[0m in \u001b[0;36m<module>\u001b[0;34m\u001b[0m\n\u001b[0;32m----> 1\u001b[0;31m \u001b[0mmytuple\u001b[0m\u001b[0;34m(\u001b[0m\u001b[0;36m0\u001b[0m\u001b[0;34m)\u001b[0m\u001b[0;34m\u001b[0m\u001b[0;34m\u001b[0m\u001b[0m\n\u001b[0m",
      "\u001b[0;31mTypeError\u001b[0m: 'tuple' object is not callable"
     ]
    }
   ],
   "metadata": {}
  },
  {
   "cell_type": "code",
   "execution_count": 28,
   "source": [
    "mytuple[0]"
   ],
   "outputs": [
    {
     "output_type": "execute_result",
     "data": {
      "text/plain": [
       "10"
      ]
     },
     "metadata": {},
     "execution_count": 28
    }
   ],
   "metadata": {}
  },
  {
   "cell_type": "code",
   "execution_count": 29,
   "source": [
    "from collections import namedtuple"
   ],
   "outputs": [],
   "metadata": {}
  },
  {
   "cell_type": "code",
   "execution_count": 30,
   "source": [
    "Dog = namedtuple('Dog',['age','breed','name'])"
   ],
   "outputs": [],
   "metadata": {}
  },
  {
   "cell_type": "code",
   "execution_count": 31,
   "source": [
    "sammy = Dog(5,'Husky','Sam')"
   ],
   "outputs": [],
   "metadata": {}
  },
  {
   "cell_type": "code",
   "execution_count": 32,
   "source": [
    "sammy"
   ],
   "outputs": [
    {
     "output_type": "execute_result",
     "data": {
      "text/plain": [
       "Dog(age=5, breed='Husky', name='Sam')"
      ]
     },
     "metadata": {},
     "execution_count": 32
    }
   ],
   "metadata": {}
  },
  {
   "cell_type": "code",
   "execution_count": 33,
   "source": [
    "sammy.age"
   ],
   "outputs": [
    {
     "output_type": "execute_result",
     "data": {
      "text/plain": [
       "5"
      ]
     },
     "metadata": {},
     "execution_count": 33
    }
   ],
   "metadata": {}
  },
  {
   "cell_type": "code",
   "execution_count": 34,
   "source": [
    "sammy.name"
   ],
   "outputs": [
    {
     "output_type": "execute_result",
     "data": {
      "text/plain": [
       "'Sam'"
      ]
     },
     "metadata": {},
     "execution_count": 34
    }
   ],
   "metadata": {}
  },
  {
   "cell_type": "code",
   "execution_count": 35,
   "source": [
    "sammy[0]"
   ],
   "outputs": [
    {
     "output_type": "execute_result",
     "data": {
      "text/plain": [
       "5"
      ]
     },
     "metadata": {},
     "execution_count": 35
    }
   ],
   "metadata": {}
  },
  {
   "cell_type": "markdown",
   "source": [
    "<h2>**Shutil and OS Modules**</h2>"
   ],
   "metadata": {}
  },
  {
   "cell_type": "code",
   "execution_count": 36,
   "source": [
    "pwd"
   ],
   "outputs": [
    {
     "output_type": "execute_result",
     "data": {
      "text/plain": [
       "'/home/pi/Projects/Python/Udemy Course'"
      ]
     },
     "metadata": {},
     "execution_count": 36
    }
   ],
   "metadata": {}
  },
  {
   "cell_type": "code",
   "execution_count": 39,
   "source": [
    "f = open('./supplementary/practice.txt','w+')\n",
    "f.write('This is a test string')\n",
    "f.close()"
   ],
   "outputs": [],
   "metadata": {}
  },
  {
   "cell_type": "code",
   "execution_count": 40,
   "source": [
    "import os"
   ],
   "outputs": [],
   "metadata": {}
  },
  {
   "cell_type": "code",
   "execution_count": 41,
   "source": [
    "os.getcwd"
   ],
   "outputs": [
    {
     "output_type": "execute_result",
     "data": {
      "text/plain": [
       "<function posix.getcwd()>"
      ]
     },
     "metadata": {},
     "execution_count": 41
    }
   ],
   "metadata": {}
  },
  {
   "cell_type": "code",
   "execution_count": 42,
   "source": [
    "os.getcwd()"
   ],
   "outputs": [
    {
     "output_type": "execute_result",
     "data": {
      "text/plain": [
       "'/home/pi/Projects/Python/Udemy Course'"
      ]
     },
     "metadata": {},
     "execution_count": 42
    }
   ],
   "metadata": {}
  },
  {
   "cell_type": "code",
   "execution_count": 48,
   "source": [
    "os.listdir('/home/pi/Projects/Python/Udemy Course/supplementary')"
   ],
   "outputs": [
    {
     "output_type": "execute_result",
     "data": {
      "text/plain": [
       "['myfile.txt', 'newfile.txt', 'testfile.txt', 'test.txt', 'practice.txt']"
      ]
     },
     "metadata": {},
     "execution_count": 48
    }
   ],
   "metadata": {}
  },
  {
   "cell_type": "code",
   "execution_count": 49,
   "source": [
    "import shutil"
   ],
   "outputs": [],
   "metadata": {}
  },
  {
   "cell_type": "code",
   "execution_count": 50,
   "source": [
    "shutil.move('./supplementary/practice.txt', './')"
   ],
   "outputs": [
    {
     "output_type": "execute_result",
     "data": {
      "text/plain": [
       "'./practice.txt'"
      ]
     },
     "metadata": {},
     "execution_count": 50
    }
   ],
   "metadata": {}
  },
  {
   "cell_type": "code",
   "execution_count": 51,
   "source": [
    "shutil.move('./practice.txt','./supplementary')"
   ],
   "outputs": [
    {
     "output_type": "execute_result",
     "data": {
      "text/plain": [
       "'./supplementary/practice.txt'"
      ]
     },
     "metadata": {},
     "execution_count": 51
    }
   ],
   "metadata": {}
  },
  {
   "cell_type": "code",
   "execution_count": 61,
   "source": [
    "from send2trash import send2trash as delete"
   ],
   "outputs": [],
   "metadata": {}
  },
  {
   "cell_type": "code",
   "execution_count": 62,
   "source": [
    "delete('./supplementary/practice.txt')"
   ],
   "outputs": [],
   "metadata": {}
  },
  {
   "cell_type": "code",
   "execution_count": 70,
   "source": [
    "for folder, sub_folders,files in os.walk(os.getcwd()):\n",
    "    print(folder)\n",
    "    for sub_fold in sub_folders:\n",
    "        print(f\"Subfolder: {sub_fold}\")"
   ],
   "outputs": [
    {
     "output_type": "stream",
     "name": "stdout",
     "text": [
      "/home/pi/Projects/Python/Udemy Course\n",
      "Subfolder: __pycache__\n",
      "Subfolder: my_main_package\n",
      "Subfolder: .git\n",
      "Subfolder: course-info\n",
      "Subfolder: supplementary\n",
      "/home/pi/Projects/Python/Udemy Course/__pycache__\n",
      "/home/pi/Projects/Python/Udemy Course/my_main_package\n",
      "Subfolder: __pycache__\n",
      "Subfolder: subpackage\n",
      "/home/pi/Projects/Python/Udemy Course/my_main_package/__pycache__\n",
      "/home/pi/Projects/Python/Udemy Course/my_main_package/subpackage\n",
      "Subfolder: __pycache__\n",
      "/home/pi/Projects/Python/Udemy Course/my_main_package/subpackage/__pycache__\n",
      "/home/pi/Projects/Python/Udemy Course/.git\n",
      "Subfolder: refs\n",
      "Subfolder: hooks\n",
      "Subfolder: objects\n",
      "Subfolder: branches\n",
      "Subfolder: logs\n",
      "Subfolder: info\n",
      "/home/pi/Projects/Python/Udemy Course/.git/refs\n",
      "Subfolder: heads\n",
      "Subfolder: remotes\n",
      "Subfolder: tags\n",
      "/home/pi/Projects/Python/Udemy Course/.git/refs/heads\n",
      "/home/pi/Projects/Python/Udemy Course/.git/refs/remotes\n",
      "Subfolder: origin\n",
      "/home/pi/Projects/Python/Udemy Course/.git/refs/remotes/origin\n",
      "/home/pi/Projects/Python/Udemy Course/.git/refs/tags\n",
      "/home/pi/Projects/Python/Udemy Course/.git/hooks\n",
      "/home/pi/Projects/Python/Udemy Course/.git/objects\n",
      "Subfolder: 1f\n",
      "Subfolder: 48\n",
      "Subfolder: e7\n",
      "Subfolder: d5\n",
      "Subfolder: 67\n",
      "Subfolder: 62\n",
      "Subfolder: 7e\n",
      "Subfolder: 81\n",
      "Subfolder: 9c\n",
      "Subfolder: c6\n",
      "Subfolder: 7c\n",
      "Subfolder: 25\n",
      "Subfolder: 4d\n",
      "Subfolder: d6\n",
      "Subfolder: 70\n",
      "Subfolder: 36\n",
      "Subfolder: ac\n",
      "Subfolder: bf\n",
      "Subfolder: 73\n",
      "Subfolder: 2b\n",
      "Subfolder: be\n",
      "Subfolder: 74\n",
      "Subfolder: 09\n",
      "Subfolder: 42\n",
      "Subfolder: fc\n",
      "Subfolder: d4\n",
      "Subfolder: 1d\n",
      "Subfolder: 06\n",
      "Subfolder: 10\n",
      "Subfolder: b7\n",
      "Subfolder: 96\n",
      "Subfolder: 6c\n",
      "Subfolder: 11\n",
      "Subfolder: 1c\n",
      "Subfolder: 53\n",
      "Subfolder: 71\n",
      "Subfolder: 51\n",
      "Subfolder: 9b\n",
      "Subfolder: 61\n",
      "Subfolder: d1\n",
      "Subfolder: 38\n",
      "Subfolder: 15\n",
      "Subfolder: 6a\n",
      "Subfolder: ea\n",
      "Subfolder: 0b\n",
      "Subfolder: a0\n",
      "Subfolder: 90\n",
      "Subfolder: 85\n",
      "Subfolder: e0\n",
      "Subfolder: 0d\n",
      "Subfolder: 8b\n",
      "Subfolder: 56\n",
      "Subfolder: d0\n",
      "Subfolder: 72\n",
      "Subfolder: 45\n",
      "Subfolder: 20\n",
      "Subfolder: 76\n",
      "Subfolder: a5\n",
      "Subfolder: c4\n",
      "Subfolder: e3\n",
      "Subfolder: aa\n",
      "Subfolder: 5d\n",
      "Subfolder: 7a\n",
      "Subfolder: 00\n",
      "Subfolder: 64\n",
      "Subfolder: b3\n",
      "Subfolder: ab\n",
      "Subfolder: cb\n",
      "Subfolder: 87\n",
      "Subfolder: de\n",
      "Subfolder: 98\n",
      "Subfolder: 4a\n",
      "Subfolder: a3\n",
      "Subfolder: f4\n",
      "Subfolder: b9\n",
      "Subfolder: e1\n",
      "Subfolder: ca\n",
      "Subfolder: df\n",
      "Subfolder: 75\n",
      "Subfolder: 08\n",
      "Subfolder: 24\n",
      "Subfolder: 31\n",
      "Subfolder: fe\n",
      "Subfolder: 69\n",
      "Subfolder: c3\n",
      "Subfolder: 7d\n",
      "Subfolder: 3b\n",
      "Subfolder: 27\n",
      "Subfolder: 91\n",
      "Subfolder: 78\n",
      "Subfolder: 7f\n",
      "Subfolder: 8f\n",
      "Subfolder: 55\n",
      "Subfolder: 04\n",
      "Subfolder: 03\n",
      "Subfolder: 84\n",
      "Subfolder: 9d\n",
      "Subfolder: c0\n",
      "Subfolder: 32\n",
      "Subfolder: 2a\n",
      "Subfolder: 3a\n",
      "Subfolder: 80\n",
      "Subfolder: c8\n",
      "Subfolder: 79\n",
      "Subfolder: db\n",
      "Subfolder: 0f\n",
      "Subfolder: c7\n",
      "Subfolder: f7\n",
      "Subfolder: 12\n",
      "Subfolder: eb\n",
      "Subfolder: f6\n",
      "Subfolder: 33\n",
      "Subfolder: 6f\n",
      "Subfolder: 40\n",
      "Subfolder: 34\n",
      "Subfolder: 3f\n",
      "Subfolder: 5b\n",
      "Subfolder: 9a\n",
      "Subfolder: a4\n",
      "Subfolder: 05\n",
      "Subfolder: 02\n",
      "Subfolder: 89\n",
      "Subfolder: d9\n",
      "Subfolder: 35\n",
      "Subfolder: 2e\n",
      "Subfolder: pack\n",
      "Subfolder: 54\n",
      "Subfolder: 26\n",
      "Subfolder: f1\n",
      "Subfolder: cd\n",
      "Subfolder: 39\n",
      "Subfolder: 01\n",
      "Subfolder: b4\n",
      "Subfolder: 77\n",
      "Subfolder: 52\n",
      "Subfolder: a8\n",
      "Subfolder: b5\n",
      "Subfolder: 66\n",
      "Subfolder: 21\n",
      "Subfolder: a6\n",
      "Subfolder: d2\n",
      "Subfolder: 30\n",
      "Subfolder: 82\n",
      "Subfolder: 86\n",
      "Subfolder: 1a\n",
      "Subfolder: b6\n",
      "Subfolder: info\n",
      "Subfolder: dc\n",
      "Subfolder: c9\n",
      "Subfolder: 6e\n",
      "Subfolder: 3e\n",
      "Subfolder: b1\n",
      "Subfolder: a9\n",
      "Subfolder: ef\n",
      "Subfolder: c1\n",
      "Subfolder: 4e\n",
      "Subfolder: 2f\n",
      "Subfolder: 0c\n",
      "Subfolder: d3\n",
      "Subfolder: d7\n",
      "Subfolder: e6\n",
      "Subfolder: f3\n",
      "Subfolder: cf\n",
      "Subfolder: 18\n",
      "Subfolder: ae\n",
      "Subfolder: 95\n",
      "Subfolder: af\n",
      "Subfolder: 60\n",
      "Subfolder: 2c\n",
      "Subfolder: 5a\n",
      "Subfolder: 41\n",
      "Subfolder: cc\n",
      "Subfolder: 19\n",
      "Subfolder: 7b\n",
      "Subfolder: bd\n",
      "Subfolder: a7\n",
      "Subfolder: 46\n",
      "Subfolder: ec\n",
      "Subfolder: e2\n",
      "Subfolder: 5f\n",
      "Subfolder: bc\n",
      "Subfolder: 68\n",
      "Subfolder: b8\n",
      "Subfolder: ad\n",
      "Subfolder: f8\n",
      "Subfolder: 2d\n",
      "Subfolder: 8c\n",
      "Subfolder: ed\n",
      "Subfolder: 4c\n",
      "Subfolder: e4\n",
      "Subfolder: f5\n",
      "Subfolder: 47\n",
      "Subfolder: 49\n",
      "Subfolder: f0\n",
      "Subfolder: 17\n",
      "Subfolder: 93\n",
      "Subfolder: fd\n",
      "Subfolder: d8\n",
      "/home/pi/Projects/Python/Udemy Course/.git/objects/1f\n",
      "/home/pi/Projects/Python/Udemy Course/.git/objects/48\n",
      "/home/pi/Projects/Python/Udemy Course/.git/objects/e7\n",
      "/home/pi/Projects/Python/Udemy Course/.git/objects/d5\n",
      "/home/pi/Projects/Python/Udemy Course/.git/objects/67\n",
      "/home/pi/Projects/Python/Udemy Course/.git/objects/62\n",
      "/home/pi/Projects/Python/Udemy Course/.git/objects/7e\n",
      "/home/pi/Projects/Python/Udemy Course/.git/objects/81\n",
      "/home/pi/Projects/Python/Udemy Course/.git/objects/9c\n",
      "/home/pi/Projects/Python/Udemy Course/.git/objects/c6\n",
      "/home/pi/Projects/Python/Udemy Course/.git/objects/7c\n",
      "/home/pi/Projects/Python/Udemy Course/.git/objects/25\n",
      "/home/pi/Projects/Python/Udemy Course/.git/objects/4d\n",
      "/home/pi/Projects/Python/Udemy Course/.git/objects/d6\n",
      "/home/pi/Projects/Python/Udemy Course/.git/objects/70\n",
      "/home/pi/Projects/Python/Udemy Course/.git/objects/36\n",
      "/home/pi/Projects/Python/Udemy Course/.git/objects/ac\n",
      "/home/pi/Projects/Python/Udemy Course/.git/objects/bf\n",
      "/home/pi/Projects/Python/Udemy Course/.git/objects/73\n",
      "/home/pi/Projects/Python/Udemy Course/.git/objects/2b\n",
      "/home/pi/Projects/Python/Udemy Course/.git/objects/be\n",
      "/home/pi/Projects/Python/Udemy Course/.git/objects/74\n",
      "/home/pi/Projects/Python/Udemy Course/.git/objects/09\n",
      "/home/pi/Projects/Python/Udemy Course/.git/objects/42\n",
      "/home/pi/Projects/Python/Udemy Course/.git/objects/fc\n",
      "/home/pi/Projects/Python/Udemy Course/.git/objects/d4\n",
      "/home/pi/Projects/Python/Udemy Course/.git/objects/1d\n",
      "/home/pi/Projects/Python/Udemy Course/.git/objects/06\n",
      "/home/pi/Projects/Python/Udemy Course/.git/objects/10\n",
      "/home/pi/Projects/Python/Udemy Course/.git/objects/b7\n",
      "/home/pi/Projects/Python/Udemy Course/.git/objects/96\n",
      "/home/pi/Projects/Python/Udemy Course/.git/objects/6c\n",
      "/home/pi/Projects/Python/Udemy Course/.git/objects/11\n",
      "/home/pi/Projects/Python/Udemy Course/.git/objects/1c\n",
      "/home/pi/Projects/Python/Udemy Course/.git/objects/53\n",
      "/home/pi/Projects/Python/Udemy Course/.git/objects/71\n",
      "/home/pi/Projects/Python/Udemy Course/.git/objects/51\n",
      "/home/pi/Projects/Python/Udemy Course/.git/objects/9b\n",
      "/home/pi/Projects/Python/Udemy Course/.git/objects/61\n",
      "/home/pi/Projects/Python/Udemy Course/.git/objects/d1\n",
      "/home/pi/Projects/Python/Udemy Course/.git/objects/38\n",
      "/home/pi/Projects/Python/Udemy Course/.git/objects/15\n",
      "/home/pi/Projects/Python/Udemy Course/.git/objects/6a\n",
      "/home/pi/Projects/Python/Udemy Course/.git/objects/ea\n",
      "/home/pi/Projects/Python/Udemy Course/.git/objects/0b\n",
      "/home/pi/Projects/Python/Udemy Course/.git/objects/a0\n",
      "/home/pi/Projects/Python/Udemy Course/.git/objects/90\n",
      "/home/pi/Projects/Python/Udemy Course/.git/objects/85\n",
      "/home/pi/Projects/Python/Udemy Course/.git/objects/e0\n",
      "/home/pi/Projects/Python/Udemy Course/.git/objects/0d\n",
      "/home/pi/Projects/Python/Udemy Course/.git/objects/8b\n",
      "/home/pi/Projects/Python/Udemy Course/.git/objects/56\n",
      "/home/pi/Projects/Python/Udemy Course/.git/objects/d0\n",
      "/home/pi/Projects/Python/Udemy Course/.git/objects/72\n",
      "/home/pi/Projects/Python/Udemy Course/.git/objects/45\n",
      "/home/pi/Projects/Python/Udemy Course/.git/objects/20\n",
      "/home/pi/Projects/Python/Udemy Course/.git/objects/76\n",
      "/home/pi/Projects/Python/Udemy Course/.git/objects/a5\n",
      "/home/pi/Projects/Python/Udemy Course/.git/objects/c4\n",
      "/home/pi/Projects/Python/Udemy Course/.git/objects/e3\n",
      "/home/pi/Projects/Python/Udemy Course/.git/objects/aa\n",
      "/home/pi/Projects/Python/Udemy Course/.git/objects/5d\n",
      "/home/pi/Projects/Python/Udemy Course/.git/objects/7a\n",
      "/home/pi/Projects/Python/Udemy Course/.git/objects/00\n",
      "/home/pi/Projects/Python/Udemy Course/.git/objects/64\n",
      "/home/pi/Projects/Python/Udemy Course/.git/objects/b3\n",
      "/home/pi/Projects/Python/Udemy Course/.git/objects/ab\n",
      "/home/pi/Projects/Python/Udemy Course/.git/objects/cb\n",
      "/home/pi/Projects/Python/Udemy Course/.git/objects/87\n",
      "/home/pi/Projects/Python/Udemy Course/.git/objects/de\n",
      "/home/pi/Projects/Python/Udemy Course/.git/objects/98\n",
      "/home/pi/Projects/Python/Udemy Course/.git/objects/4a\n",
      "/home/pi/Projects/Python/Udemy Course/.git/objects/a3\n",
      "/home/pi/Projects/Python/Udemy Course/.git/objects/f4\n",
      "/home/pi/Projects/Python/Udemy Course/.git/objects/b9\n",
      "/home/pi/Projects/Python/Udemy Course/.git/objects/e1\n",
      "/home/pi/Projects/Python/Udemy Course/.git/objects/ca\n",
      "/home/pi/Projects/Python/Udemy Course/.git/objects/df\n",
      "/home/pi/Projects/Python/Udemy Course/.git/objects/75\n",
      "/home/pi/Projects/Python/Udemy Course/.git/objects/08\n",
      "/home/pi/Projects/Python/Udemy Course/.git/objects/24\n",
      "/home/pi/Projects/Python/Udemy Course/.git/objects/31\n",
      "/home/pi/Projects/Python/Udemy Course/.git/objects/fe\n",
      "/home/pi/Projects/Python/Udemy Course/.git/objects/69\n",
      "/home/pi/Projects/Python/Udemy Course/.git/objects/c3\n",
      "/home/pi/Projects/Python/Udemy Course/.git/objects/7d\n",
      "/home/pi/Projects/Python/Udemy Course/.git/objects/3b\n",
      "/home/pi/Projects/Python/Udemy Course/.git/objects/27\n",
      "/home/pi/Projects/Python/Udemy Course/.git/objects/91\n",
      "/home/pi/Projects/Python/Udemy Course/.git/objects/78\n",
      "/home/pi/Projects/Python/Udemy Course/.git/objects/7f\n",
      "/home/pi/Projects/Python/Udemy Course/.git/objects/8f\n",
      "/home/pi/Projects/Python/Udemy Course/.git/objects/55\n",
      "/home/pi/Projects/Python/Udemy Course/.git/objects/04\n",
      "/home/pi/Projects/Python/Udemy Course/.git/objects/03\n",
      "/home/pi/Projects/Python/Udemy Course/.git/objects/84\n",
      "/home/pi/Projects/Python/Udemy Course/.git/objects/9d\n",
      "/home/pi/Projects/Python/Udemy Course/.git/objects/c0\n",
      "/home/pi/Projects/Python/Udemy Course/.git/objects/32\n",
      "/home/pi/Projects/Python/Udemy Course/.git/objects/2a\n",
      "/home/pi/Projects/Python/Udemy Course/.git/objects/3a\n",
      "/home/pi/Projects/Python/Udemy Course/.git/objects/80\n",
      "/home/pi/Projects/Python/Udemy Course/.git/objects/c8\n",
      "/home/pi/Projects/Python/Udemy Course/.git/objects/79\n",
      "/home/pi/Projects/Python/Udemy Course/.git/objects/db\n",
      "/home/pi/Projects/Python/Udemy Course/.git/objects/0f\n",
      "/home/pi/Projects/Python/Udemy Course/.git/objects/c7\n",
      "/home/pi/Projects/Python/Udemy Course/.git/objects/f7\n",
      "/home/pi/Projects/Python/Udemy Course/.git/objects/12\n",
      "/home/pi/Projects/Python/Udemy Course/.git/objects/eb\n",
      "/home/pi/Projects/Python/Udemy Course/.git/objects/f6\n",
      "/home/pi/Projects/Python/Udemy Course/.git/objects/33\n",
      "/home/pi/Projects/Python/Udemy Course/.git/objects/6f\n",
      "/home/pi/Projects/Python/Udemy Course/.git/objects/40\n",
      "/home/pi/Projects/Python/Udemy Course/.git/objects/34\n",
      "/home/pi/Projects/Python/Udemy Course/.git/objects/3f\n",
      "/home/pi/Projects/Python/Udemy Course/.git/objects/5b\n",
      "/home/pi/Projects/Python/Udemy Course/.git/objects/9a\n",
      "/home/pi/Projects/Python/Udemy Course/.git/objects/a4\n",
      "/home/pi/Projects/Python/Udemy Course/.git/objects/05\n",
      "/home/pi/Projects/Python/Udemy Course/.git/objects/02\n",
      "/home/pi/Projects/Python/Udemy Course/.git/objects/89\n",
      "/home/pi/Projects/Python/Udemy Course/.git/objects/d9\n",
      "/home/pi/Projects/Python/Udemy Course/.git/objects/35\n",
      "/home/pi/Projects/Python/Udemy Course/.git/objects/2e\n",
      "/home/pi/Projects/Python/Udemy Course/.git/objects/pack\n",
      "/home/pi/Projects/Python/Udemy Course/.git/objects/54\n",
      "/home/pi/Projects/Python/Udemy Course/.git/objects/26\n",
      "/home/pi/Projects/Python/Udemy Course/.git/objects/f1\n",
      "/home/pi/Projects/Python/Udemy Course/.git/objects/cd\n",
      "/home/pi/Projects/Python/Udemy Course/.git/objects/39\n",
      "/home/pi/Projects/Python/Udemy Course/.git/objects/01\n",
      "/home/pi/Projects/Python/Udemy Course/.git/objects/b4\n",
      "/home/pi/Projects/Python/Udemy Course/.git/objects/77\n",
      "/home/pi/Projects/Python/Udemy Course/.git/objects/52\n",
      "/home/pi/Projects/Python/Udemy Course/.git/objects/a8\n",
      "/home/pi/Projects/Python/Udemy Course/.git/objects/b5\n",
      "/home/pi/Projects/Python/Udemy Course/.git/objects/66\n",
      "/home/pi/Projects/Python/Udemy Course/.git/objects/21\n",
      "/home/pi/Projects/Python/Udemy Course/.git/objects/a6\n",
      "/home/pi/Projects/Python/Udemy Course/.git/objects/d2\n",
      "/home/pi/Projects/Python/Udemy Course/.git/objects/30\n",
      "/home/pi/Projects/Python/Udemy Course/.git/objects/82\n",
      "/home/pi/Projects/Python/Udemy Course/.git/objects/86\n",
      "/home/pi/Projects/Python/Udemy Course/.git/objects/1a\n",
      "/home/pi/Projects/Python/Udemy Course/.git/objects/b6\n",
      "/home/pi/Projects/Python/Udemy Course/.git/objects/info\n",
      "/home/pi/Projects/Python/Udemy Course/.git/objects/dc\n",
      "/home/pi/Projects/Python/Udemy Course/.git/objects/c9\n",
      "/home/pi/Projects/Python/Udemy Course/.git/objects/6e\n",
      "/home/pi/Projects/Python/Udemy Course/.git/objects/3e\n",
      "/home/pi/Projects/Python/Udemy Course/.git/objects/b1\n",
      "/home/pi/Projects/Python/Udemy Course/.git/objects/a9\n",
      "/home/pi/Projects/Python/Udemy Course/.git/objects/ef\n",
      "/home/pi/Projects/Python/Udemy Course/.git/objects/c1\n",
      "/home/pi/Projects/Python/Udemy Course/.git/objects/4e\n",
      "/home/pi/Projects/Python/Udemy Course/.git/objects/2f\n",
      "/home/pi/Projects/Python/Udemy Course/.git/objects/0c\n",
      "/home/pi/Projects/Python/Udemy Course/.git/objects/d3\n",
      "/home/pi/Projects/Python/Udemy Course/.git/objects/d7\n",
      "/home/pi/Projects/Python/Udemy Course/.git/objects/e6\n",
      "/home/pi/Projects/Python/Udemy Course/.git/objects/f3\n",
      "/home/pi/Projects/Python/Udemy Course/.git/objects/cf\n",
      "/home/pi/Projects/Python/Udemy Course/.git/objects/18\n",
      "/home/pi/Projects/Python/Udemy Course/.git/objects/ae\n",
      "/home/pi/Projects/Python/Udemy Course/.git/objects/95\n",
      "/home/pi/Projects/Python/Udemy Course/.git/objects/af\n",
      "/home/pi/Projects/Python/Udemy Course/.git/objects/60\n",
      "/home/pi/Projects/Python/Udemy Course/.git/objects/2c\n",
      "/home/pi/Projects/Python/Udemy Course/.git/objects/5a\n",
      "/home/pi/Projects/Python/Udemy Course/.git/objects/41\n",
      "/home/pi/Projects/Python/Udemy Course/.git/objects/cc\n",
      "/home/pi/Projects/Python/Udemy Course/.git/objects/19\n",
      "/home/pi/Projects/Python/Udemy Course/.git/objects/7b\n",
      "/home/pi/Projects/Python/Udemy Course/.git/objects/bd\n",
      "/home/pi/Projects/Python/Udemy Course/.git/objects/a7\n",
      "/home/pi/Projects/Python/Udemy Course/.git/objects/46\n",
      "/home/pi/Projects/Python/Udemy Course/.git/objects/ec\n",
      "/home/pi/Projects/Python/Udemy Course/.git/objects/e2\n",
      "/home/pi/Projects/Python/Udemy Course/.git/objects/5f\n",
      "/home/pi/Projects/Python/Udemy Course/.git/objects/bc\n",
      "/home/pi/Projects/Python/Udemy Course/.git/objects/68\n",
      "/home/pi/Projects/Python/Udemy Course/.git/objects/b8\n",
      "/home/pi/Projects/Python/Udemy Course/.git/objects/ad\n",
      "/home/pi/Projects/Python/Udemy Course/.git/objects/f8\n",
      "/home/pi/Projects/Python/Udemy Course/.git/objects/2d\n",
      "/home/pi/Projects/Python/Udemy Course/.git/objects/8c\n",
      "/home/pi/Projects/Python/Udemy Course/.git/objects/ed\n",
      "/home/pi/Projects/Python/Udemy Course/.git/objects/4c\n",
      "/home/pi/Projects/Python/Udemy Course/.git/objects/e4\n",
      "/home/pi/Projects/Python/Udemy Course/.git/objects/f5\n",
      "/home/pi/Projects/Python/Udemy Course/.git/objects/47\n",
      "/home/pi/Projects/Python/Udemy Course/.git/objects/49\n",
      "/home/pi/Projects/Python/Udemy Course/.git/objects/f0\n",
      "/home/pi/Projects/Python/Udemy Course/.git/objects/17\n",
      "/home/pi/Projects/Python/Udemy Course/.git/objects/93\n",
      "/home/pi/Projects/Python/Udemy Course/.git/objects/fd\n",
      "/home/pi/Projects/Python/Udemy Course/.git/objects/d8\n",
      "/home/pi/Projects/Python/Udemy Course/.git/branches\n",
      "/home/pi/Projects/Python/Udemy Course/.git/logs\n",
      "Subfolder: refs\n",
      "/home/pi/Projects/Python/Udemy Course/.git/logs/refs\n",
      "Subfolder: heads\n",
      "Subfolder: remotes\n",
      "/home/pi/Projects/Python/Udemy Course/.git/logs/refs/heads\n",
      "/home/pi/Projects/Python/Udemy Course/.git/logs/refs/remotes\n",
      "Subfolder: origin\n",
      "/home/pi/Projects/Python/Udemy Course/.git/logs/refs/remotes/origin\n",
      "/home/pi/Projects/Python/Udemy Course/.git/info\n",
      "/home/pi/Projects/Python/Udemy Course/course-info\n",
      "Subfolder: 14-Working-with-Images\n",
      "Subfolder: 17-Advanced Python Objects and Data Structures\n",
      "Subfolder: 05-Object Oriented Programming\n",
      "Subfolder: 11-Python Generators\n",
      "Subfolder: 15-PDFs-and-Spreadsheets\n",
      "Subfolder: 19-Bonus Material - Introduction to GUIs\n",
      "Subfolder: .git\n",
      "Subfolder: 16-Emailing-with-Python\n",
      "Subfolder: 12-Advanced Python Modules\n",
      "Subfolder: 04-Milestone Project - 1\n",
      "Subfolder: 02-Python Statements\n",
      "Subfolder: .ipynb_checkpoints\n",
      "Subfolder: 13-Web-Scraping\n",
      "Subfolder: 08-Milestone Project - 2\n",
      "Subfolder: 01-Python Comparison Operators\n",
      "Subfolder: 09-Built-in Functions\n",
      "Subfolder: 03-Methods and Functions\n",
      "Subfolder: 07-Errors and Exception Handling\n",
      "Subfolder: 10-Python Decorators\n",
      "Subfolder: 18-Milestone Project - 3\n",
      "Subfolder: 00-Python Object and Data Structure Basics\n",
      "Subfolder: 06-Modules and Packages\n",
      "/home/pi/Projects/Python/Udemy Course/course-info/14-Working-with-Images\n",
      "Subfolder: .ipynb_checkpoints\n",
      "/home/pi/Projects/Python/Udemy Course/course-info/14-Working-with-Images/.ipynb_checkpoints\n",
      "/home/pi/Projects/Python/Udemy Course/course-info/17-Advanced Python Objects and Data Structures\n",
      "Subfolder: .ipynb_checkpoints\n",
      "/home/pi/Projects/Python/Udemy Course/course-info/17-Advanced Python Objects and Data Structures/.ipynb_checkpoints\n",
      "/home/pi/Projects/Python/Udemy Course/course-info/05-Object Oriented Programming\n",
      "Subfolder: .ipynb_checkpoints\n",
      "/home/pi/Projects/Python/Udemy Course/course-info/05-Object Oriented Programming/.ipynb_checkpoints\n",
      "/home/pi/Projects/Python/Udemy Course/course-info/11-Python Generators\n",
      "Subfolder: .ipynb_checkpoints\n",
      "/home/pi/Projects/Python/Udemy Course/course-info/11-Python Generators/.ipynb_checkpoints\n",
      "/home/pi/Projects/Python/Udemy Course/course-info/15-PDFs-and-Spreadsheets\n",
      "Subfolder: .ipynb_checkpoints\n",
      "Subfolder: Exercise_Files\n",
      "/home/pi/Projects/Python/Udemy Course/course-info/15-PDFs-and-Spreadsheets/.ipynb_checkpoints\n",
      "/home/pi/Projects/Python/Udemy Course/course-info/15-PDFs-and-Spreadsheets/Exercise_Files\n",
      "/home/pi/Projects/Python/Udemy Course/course-info/19-Bonus Material - Introduction to GUIs\n",
      "Subfolder: .ipynb_checkpoints\n",
      "/home/pi/Projects/Python/Udemy Course/course-info/19-Bonus Material - Introduction to GUIs/.ipynb_checkpoints\n",
      "/home/pi/Projects/Python/Udemy Course/course-info/.git\n",
      "Subfolder: refs\n",
      "Subfolder: hooks\n",
      "Subfolder: objects\n",
      "Subfolder: branches\n",
      "Subfolder: logs\n",
      "Subfolder: info\n",
      "/home/pi/Projects/Python/Udemy Course/course-info/.git/refs\n",
      "Subfolder: heads\n",
      "Subfolder: remotes\n",
      "Subfolder: tags\n",
      "/home/pi/Projects/Python/Udemy Course/course-info/.git/refs/heads\n",
      "/home/pi/Projects/Python/Udemy Course/course-info/.git/refs/remotes\n",
      "Subfolder: origin\n",
      "/home/pi/Projects/Python/Udemy Course/course-info/.git/refs/remotes/origin\n",
      "/home/pi/Projects/Python/Udemy Course/course-info/.git/refs/tags\n",
      "/home/pi/Projects/Python/Udemy Course/course-info/.git/hooks\n",
      "/home/pi/Projects/Python/Udemy Course/course-info/.git/objects\n",
      "Subfolder: pack\n",
      "Subfolder: info\n",
      "/home/pi/Projects/Python/Udemy Course/course-info/.git/objects/pack\n",
      "/home/pi/Projects/Python/Udemy Course/course-info/.git/objects/info\n",
      "/home/pi/Projects/Python/Udemy Course/course-info/.git/branches\n",
      "/home/pi/Projects/Python/Udemy Course/course-info/.git/logs\n",
      "Subfolder: refs\n",
      "/home/pi/Projects/Python/Udemy Course/course-info/.git/logs/refs\n",
      "Subfolder: heads\n",
      "Subfolder: remotes\n",
      "/home/pi/Projects/Python/Udemy Course/course-info/.git/logs/refs/heads\n",
      "/home/pi/Projects/Python/Udemy Course/course-info/.git/logs/refs/remotes\n",
      "Subfolder: origin\n",
      "/home/pi/Projects/Python/Udemy Course/course-info/.git/logs/refs/remotes/origin\n",
      "/home/pi/Projects/Python/Udemy Course/course-info/.git/info\n",
      "/home/pi/Projects/Python/Udemy Course/course-info/16-Emailing-with-Python\n",
      "Subfolder: .ipynb_checkpoints\n",
      "/home/pi/Projects/Python/Udemy Course/course-info/16-Emailing-with-Python/.ipynb_checkpoints\n",
      "/home/pi/Projects/Python/Udemy Course/course-info/12-Advanced Python Modules\n",
      "Subfolder: Example_Top_Level\n",
      "Subfolder: .ipynb_checkpoints\n",
      "Subfolder: 08-Advanced-Python-Module-Exercise\n",
      "/home/pi/Projects/Python/Udemy Course/course-info/12-Advanced Python Modules/Example_Top_Level\n",
      "Subfolder: Mid-Example-One\n",
      "/home/pi/Projects/Python/Udemy Course/course-info/12-Advanced Python Modules/Example_Top_Level/Mid-Example-One\n",
      "Subfolder: Bottom-Level-Two\n",
      "Subfolder: Bottom-Level-One\n",
      "/home/pi/Projects/Python/Udemy Course/course-info/12-Advanced Python Modules/Example_Top_Level/Mid-Example-One/Bottom-Level-Two\n",
      "/home/pi/Projects/Python/Udemy Course/course-info/12-Advanced Python Modules/Example_Top_Level/Mid-Example-One/Bottom-Level-One\n",
      "/home/pi/Projects/Python/Udemy Course/course-info/12-Advanced Python Modules/.ipynb_checkpoints\n",
      "/home/pi/Projects/Python/Udemy Course/course-info/12-Advanced Python Modules/08-Advanced-Python-Module-Exercise\n",
      "Subfolder: extracted_content\n",
      "Subfolder: .ipynb_checkpoints\n",
      "/home/pi/Projects/Python/Udemy Course/course-info/12-Advanced Python Modules/08-Advanced-Python-Module-Exercise/extracted_content\n",
      "Subfolder: One\n",
      "Subfolder: Three\n",
      "Subfolder: Five\n",
      "Subfolder: Four\n",
      "Subfolder: Two\n",
      "/home/pi/Projects/Python/Udemy Course/course-info/12-Advanced Python Modules/08-Advanced-Python-Module-Exercise/extracted_content/One\n",
      "/home/pi/Projects/Python/Udemy Course/course-info/12-Advanced Python Modules/08-Advanced-Python-Module-Exercise/extracted_content/Three\n",
      "/home/pi/Projects/Python/Udemy Course/course-info/12-Advanced Python Modules/08-Advanced-Python-Module-Exercise/extracted_content/Five\n",
      "/home/pi/Projects/Python/Udemy Course/course-info/12-Advanced Python Modules/08-Advanced-Python-Module-Exercise/extracted_content/Four\n",
      "/home/pi/Projects/Python/Udemy Course/course-info/12-Advanced Python Modules/08-Advanced-Python-Module-Exercise/extracted_content/Two\n",
      "/home/pi/Projects/Python/Udemy Course/course-info/12-Advanced Python Modules/08-Advanced-Python-Module-Exercise/.ipynb_checkpoints\n",
      "/home/pi/Projects/Python/Udemy Course/course-info/04-Milestone Project - 1\n",
      "Subfolder: .ipynb_checkpoints\n",
      "/home/pi/Projects/Python/Udemy Course/course-info/04-Milestone Project - 1/.ipynb_checkpoints\n",
      "/home/pi/Projects/Python/Udemy Course/course-info/02-Python Statements\n",
      "Subfolder: .ipynb_checkpoints\n",
      "/home/pi/Projects/Python/Udemy Course/course-info/02-Python Statements/.ipynb_checkpoints\n",
      "/home/pi/Projects/Python/Udemy Course/course-info/.ipynb_checkpoints\n",
      "/home/pi/Projects/Python/Udemy Course/course-info/13-Web-Scraping\n",
      "Subfolder: .ipynb_checkpoints\n",
      "/home/pi/Projects/Python/Udemy Course/course-info/13-Web-Scraping/.ipynb_checkpoints\n",
      "/home/pi/Projects/Python/Udemy Course/course-info/08-Milestone Project - 2\n",
      "Subfolder: .ipynb_checkpoints\n",
      "/home/pi/Projects/Python/Udemy Course/course-info/08-Milestone Project - 2/.ipynb_checkpoints\n",
      "/home/pi/Projects/Python/Udemy Course/course-info/01-Python Comparison Operators\n",
      "Subfolder: .ipynb_checkpoints\n",
      "/home/pi/Projects/Python/Udemy Course/course-info/01-Python Comparison Operators/.ipynb_checkpoints\n",
      "/home/pi/Projects/Python/Udemy Course/course-info/09-Built-in Functions\n",
      "Subfolder: .ipynb_checkpoints\n",
      "/home/pi/Projects/Python/Udemy Course/course-info/09-Built-in Functions/.ipynb_checkpoints\n",
      "/home/pi/Projects/Python/Udemy Course/course-info/03-Methods and Functions\n",
      "Subfolder: .ipynb_checkpoints\n",
      "/home/pi/Projects/Python/Udemy Course/course-info/03-Methods and Functions/.ipynb_checkpoints\n",
      "/home/pi/Projects/Python/Udemy Course/course-info/07-Errors and Exception Handling\n",
      "Subfolder: __pycache__\n",
      "Subfolder: .ipynb_checkpoints\n",
      "/home/pi/Projects/Python/Udemy Course/course-info/07-Errors and Exception Handling/__pycache__\n",
      "/home/pi/Projects/Python/Udemy Course/course-info/07-Errors and Exception Handling/.ipynb_checkpoints\n",
      "/home/pi/Projects/Python/Udemy Course/course-info/10-Python Decorators\n",
      "Subfolder: .ipynb_checkpoints\n",
      "/home/pi/Projects/Python/Udemy Course/course-info/10-Python Decorators/.ipynb_checkpoints\n",
      "/home/pi/Projects/Python/Udemy Course/course-info/18-Milestone Project - 3\n",
      "Subfolder: .ipynb_checkpoints\n",
      "Subfolder: Projects-Solutions\n",
      "/home/pi/Projects/Python/Udemy Course/course-info/18-Milestone Project - 3/.ipynb_checkpoints\n",
      "/home/pi/Projects/Python/Udemy Course/course-info/18-Milestone Project - 3/Projects-Solutions\n",
      "/home/pi/Projects/Python/Udemy Course/course-info/00-Python Object and Data Structure Basics\n",
      "Subfolder: .ipynb_checkpoints\n",
      "/home/pi/Projects/Python/Udemy Course/course-info/00-Python Object and Data Structure Basics/.ipynb_checkpoints\n",
      "/home/pi/Projects/Python/Udemy Course/course-info/06-Modules and Packages\n",
      "Subfolder: 00-Modules_and_Packages\n",
      "Subfolder: .ipynb_checkpoints\n",
      "Subfolder: 01-Name_and_Main\n",
      "/home/pi/Projects/Python/Udemy Course/course-info/06-Modules and Packages/00-Modules_and_Packages\n",
      "Subfolder: MyMainPackage\n",
      "/home/pi/Projects/Python/Udemy Course/course-info/06-Modules and Packages/00-Modules_and_Packages/MyMainPackage\n",
      "Subfolder: __pycache__\n",
      "Subfolder: SubPackage\n",
      "/home/pi/Projects/Python/Udemy Course/course-info/06-Modules and Packages/00-Modules_and_Packages/MyMainPackage/__pycache__\n",
      "/home/pi/Projects/Python/Udemy Course/course-info/06-Modules and Packages/00-Modules_and_Packages/MyMainPackage/SubPackage\n",
      "Subfolder: __pycache__\n",
      "/home/pi/Projects/Python/Udemy Course/course-info/06-Modules and Packages/00-Modules_and_Packages/MyMainPackage/SubPackage/__pycache__\n",
      "/home/pi/Projects/Python/Udemy Course/course-info/06-Modules and Packages/.ipynb_checkpoints\n",
      "/home/pi/Projects/Python/Udemy Course/course-info/06-Modules and Packages/01-Name_and_Main\n",
      "/home/pi/Projects/Python/Udemy Course/supplementary\n"
     ]
    }
   ],
   "metadata": {}
  },
  {
   "cell_type": "markdown",
   "source": [
    "<h2>Date Time Module</h2>"
   ],
   "metadata": {}
  },
  {
   "cell_type": "code",
   "execution_count": 98,
   "source": [
    "import datetime"
   ],
   "outputs": [],
   "metadata": {}
  },
  {
   "cell_type": "code",
   "execution_count": 99,
   "source": [
    "mytime = datetime.time(2,20)"
   ],
   "outputs": [],
   "metadata": {}
  },
  {
   "cell_type": "code",
   "execution_count": 73,
   "source": [
    "mytime.minute"
   ],
   "outputs": [
    {
     "output_type": "execute_result",
     "data": {
      "text/plain": [
       "20"
      ]
     },
     "metadata": {},
     "execution_count": 73
    }
   ],
   "metadata": {}
  },
  {
   "cell_type": "code",
   "execution_count": 74,
   "source": [
    "mytime.hour"
   ],
   "outputs": [
    {
     "output_type": "execute_result",
     "data": {
      "text/plain": [
       "2"
      ]
     },
     "metadata": {},
     "execution_count": 74
    }
   ],
   "metadata": {}
  },
  {
   "cell_type": "code",
   "execution_count": 75,
   "source": [
    "print(mytime)"
   ],
   "outputs": [
    {
     "output_type": "stream",
     "name": "stdout",
     "text": [
      "02:20:00\n"
     ]
    }
   ],
   "metadata": {}
  },
  {
   "cell_type": "code",
   "execution_count": 81,
   "source": [
    "today = datetime.date.today()"
   ],
   "outputs": [],
   "metadata": {}
  },
  {
   "cell_type": "code",
   "execution_count": 83,
   "source": [
    "print(today)"
   ],
   "outputs": [
    {
     "output_type": "stream",
     "name": "stdout",
     "text": [
      "2021-07-22\n"
     ]
    }
   ],
   "metadata": {}
  },
  {
   "cell_type": "code",
   "execution_count": 84,
   "source": [
    "today.ctime()"
   ],
   "outputs": [
    {
     "output_type": "execute_result",
     "data": {
      "text/plain": [
       "'Thu Jul 22 00:00:00 2021'"
      ]
     },
     "metadata": {},
     "execution_count": 84
    }
   ],
   "metadata": {}
  },
  {
   "cell_type": "code",
   "execution_count": 85,
   "source": [
    "print(today.ctime())"
   ],
   "outputs": [
    {
     "output_type": "stream",
     "name": "stdout",
     "text": [
      "Thu Jul 22 00:00:00 2021\n"
     ]
    }
   ],
   "metadata": {}
  },
  {
   "cell_type": "code",
   "execution_count": 86,
   "source": [
    "today = datetime.datetime.today()"
   ],
   "outputs": [],
   "metadata": {}
  },
  {
   "cell_type": "code",
   "execution_count": 87,
   "source": [
    "print(today)"
   ],
   "outputs": [
    {
     "output_type": "stream",
     "name": "stdout",
     "text": [
      "2021-07-22 11:27:44.375879\n"
     ]
    }
   ],
   "metadata": {}
  },
  {
   "cell_type": "code",
   "execution_count": 88,
   "source": [
    "from datetime import date\n",
    "date1 = date(2021,11,3)\n",
    "date2 = date(2020,11,3)"
   ],
   "outputs": [],
   "metadata": {}
  },
  {
   "cell_type": "code",
   "execution_count": 89,
   "source": [
    "result = date1 - date2"
   ],
   "outputs": [],
   "metadata": {}
  },
  {
   "cell_type": "code",
   "execution_count": 90,
   "source": [
    "print(result)"
   ],
   "outputs": [
    {
     "output_type": "stream",
     "name": "stdout",
     "text": [
      "365 days, 0:00:00\n"
     ]
    }
   ],
   "metadata": {}
  },
  {
   "cell_type": "code",
   "execution_count": 91,
   "source": [
    "result.days"
   ],
   "outputs": [
    {
     "output_type": "execute_result",
     "data": {
      "text/plain": [
       "365"
      ]
     },
     "metadata": {},
     "execution_count": 91
    }
   ],
   "metadata": {}
  },
  {
   "cell_type": "code",
   "execution_count": 101,
   "source": [
    "datetime1 = datetime.datetime(2021,11,3,22,0)"
   ],
   "outputs": [],
   "metadata": {}
  },
  {
   "cell_type": "code",
   "execution_count": 106,
   "source": [
    "datetime2 = datetime.datetime(2020,11,3,12,0)"
   ],
   "outputs": [],
   "metadata": {}
  },
  {
   "cell_type": "code",
   "execution_count": 107,
   "source": [
    "my_diff = datetime1 - datetime2"
   ],
   "outputs": [],
   "metadata": {}
  },
  {
   "cell_type": "code",
   "execution_count": 108,
   "source": [
    "my_diff.total_seconds()"
   ],
   "outputs": [
    {
     "output_type": "execute_result",
     "data": {
      "text/plain": [
       "31572000.0"
      ]
     },
     "metadata": {},
     "execution_count": 108
    }
   ],
   "metadata": {}
  },
  {
   "cell_type": "markdown",
   "source": [
    "**<h2>**Math and Random Modules**</h2>**"
   ],
   "metadata": {}
  },
  {
   "cell_type": "code",
   "execution_count": 109,
   "source": [
    "import math"
   ],
   "outputs": [],
   "metadata": {}
  },
  {
   "cell_type": "code",
   "execution_count": 110,
   "source": [
    "help(math)"
   ],
   "outputs": [
    {
     "output_type": "stream",
     "name": "stdout",
     "text": [
      "Help on built-in module math:\n",
      "\n",
      "NAME\n",
      "    math\n",
      "\n",
      "DESCRIPTION\n",
      "    This module is always available.  It provides access to the\n",
      "    mathematical functions defined by the C standard.\n",
      "\n",
      "FUNCTIONS\n",
      "    acos(x, /)\n",
      "        Return the arc cosine (measured in radians) of x.\n",
      "    \n",
      "    acosh(x, /)\n",
      "        Return the inverse hyperbolic cosine of x.\n",
      "    \n",
      "    asin(x, /)\n",
      "        Return the arc sine (measured in radians) of x.\n",
      "    \n",
      "    asinh(x, /)\n",
      "        Return the inverse hyperbolic sine of x.\n",
      "    \n",
      "    atan(x, /)\n",
      "        Return the arc tangent (measured in radians) of x.\n",
      "    \n",
      "    atan2(y, x, /)\n",
      "        Return the arc tangent (measured in radians) of y/x.\n",
      "        \n",
      "        Unlike atan(y/x), the signs of both x and y are considered.\n",
      "    \n",
      "    atanh(x, /)\n",
      "        Return the inverse hyperbolic tangent of x.\n",
      "    \n",
      "    ceil(x, /)\n",
      "        Return the ceiling of x as an Integral.\n",
      "        \n",
      "        This is the smallest integer >= x.\n",
      "    \n",
      "    copysign(x, y, /)\n",
      "        Return a float with the magnitude (absolute value) of x but the sign of y.\n",
      "        \n",
      "        On platforms that support signed zeros, copysign(1.0, -0.0)\n",
      "        returns -1.0.\n",
      "    \n",
      "    cos(x, /)\n",
      "        Return the cosine of x (measured in radians).\n",
      "    \n",
      "    cosh(x, /)\n",
      "        Return the hyperbolic cosine of x.\n",
      "    \n",
      "    degrees(x, /)\n",
      "        Convert angle x from radians to degrees.\n",
      "    \n",
      "    erf(x, /)\n",
      "        Error function at x.\n",
      "    \n",
      "    erfc(x, /)\n",
      "        Complementary error function at x.\n",
      "    \n",
      "    exp(x, /)\n",
      "        Return e raised to the power of x.\n",
      "    \n",
      "    expm1(x, /)\n",
      "        Return exp(x)-1.\n",
      "        \n",
      "        This function avoids the loss of precision involved in the direct evaluation of exp(x)-1 for small x.\n",
      "    \n",
      "    fabs(x, /)\n",
      "        Return the absolute value of the float x.\n",
      "    \n",
      "    factorial(x, /)\n",
      "        Find x!.\n",
      "        \n",
      "        Raise a ValueError if x is negative or non-integral.\n",
      "    \n",
      "    floor(x, /)\n",
      "        Return the floor of x as an Integral.\n",
      "        \n",
      "        This is the largest integer <= x.\n",
      "    \n",
      "    fmod(x, y, /)\n",
      "        Return fmod(x, y), according to platform C.\n",
      "        \n",
      "        x % y may differ.\n",
      "    \n",
      "    frexp(x, /)\n",
      "        Return the mantissa and exponent of x, as pair (m, e).\n",
      "        \n",
      "        m is a float and e is an int, such that x = m * 2.**e.\n",
      "        If x is 0, m and e are both 0.  Else 0.5 <= abs(m) < 1.0.\n",
      "    \n",
      "    fsum(seq, /)\n",
      "        Return an accurate floating point sum of values in the iterable seq.\n",
      "        \n",
      "        Assumes IEEE-754 floating point arithmetic.\n",
      "    \n",
      "    gamma(x, /)\n",
      "        Gamma function at x.\n",
      "    \n",
      "    gcd(x, y, /)\n",
      "        greatest common divisor of x and y\n",
      "    \n",
      "    hypot(x, y, /)\n",
      "        Return the Euclidean distance, sqrt(x*x + y*y).\n",
      "    \n",
      "    isclose(a, b, *, rel_tol=1e-09, abs_tol=0.0)\n",
      "        Determine whether two floating point numbers are close in value.\n",
      "        \n",
      "          rel_tol\n",
      "            maximum difference for being considered \"close\", relative to the\n",
      "            magnitude of the input values\n",
      "          abs_tol\n",
      "            maximum difference for being considered \"close\", regardless of the\n",
      "            magnitude of the input values\n",
      "        \n",
      "        Return True if a is close in value to b, and False otherwise.\n",
      "        \n",
      "        For the values to be considered close, the difference between them\n",
      "        must be smaller than at least one of the tolerances.\n",
      "        \n",
      "        -inf, inf and NaN behave similarly to the IEEE 754 Standard.  That\n",
      "        is, NaN is not close to anything, even itself.  inf and -inf are\n",
      "        only close to themselves.\n",
      "    \n",
      "    isfinite(x, /)\n",
      "        Return True if x is neither an infinity nor a NaN, and False otherwise.\n",
      "    \n",
      "    isinf(x, /)\n",
      "        Return True if x is a positive or negative infinity, and False otherwise.\n",
      "    \n",
      "    isnan(x, /)\n",
      "        Return True if x is a NaN (not a number), and False otherwise.\n",
      "    \n",
      "    ldexp(x, i, /)\n",
      "        Return x * (2**i).\n",
      "        \n",
      "        This is essentially the inverse of frexp().\n",
      "    \n",
      "    lgamma(x, /)\n",
      "        Natural logarithm of absolute value of Gamma function at x.\n",
      "    \n",
      "    log(...)\n",
      "        log(x, [base=math.e])\n",
      "        Return the logarithm of x to the given base.\n",
      "        \n",
      "        If the base not specified, returns the natural logarithm (base e) of x.\n",
      "    \n",
      "    log10(x, /)\n",
      "        Return the base 10 logarithm of x.\n",
      "    \n",
      "    log1p(x, /)\n",
      "        Return the natural logarithm of 1+x (base e).\n",
      "        \n",
      "        The result is computed in a way which is accurate for x near zero.\n",
      "    \n",
      "    log2(x, /)\n",
      "        Return the base 2 logarithm of x.\n",
      "    \n",
      "    modf(x, /)\n",
      "        Return the fractional and integer parts of x.\n",
      "        \n",
      "        Both results carry the sign of x and are floats.\n",
      "    \n",
      "    pow(x, y, /)\n",
      "        Return x**y (x to the power of y).\n",
      "    \n",
      "    radians(x, /)\n",
      "        Convert angle x from degrees to radians.\n",
      "    \n",
      "    remainder(x, y, /)\n",
      "        Difference between x and the closest integer multiple of y.\n",
      "        \n",
      "        Return x - n*y where n*y is the closest integer multiple of y.\n",
      "        In the case where x is exactly halfway between two multiples of\n",
      "        y, the nearest even value of n is used. The result is always exact.\n",
      "    \n",
      "    sin(x, /)\n",
      "        Return the sine of x (measured in radians).\n",
      "    \n",
      "    sinh(x, /)\n",
      "        Return the hyperbolic sine of x.\n",
      "    \n",
      "    sqrt(x, /)\n",
      "        Return the square root of x.\n",
      "    \n",
      "    tan(x, /)\n",
      "        Return the tangent of x (measured in radians).\n",
      "    \n",
      "    tanh(x, /)\n",
      "        Return the hyperbolic tangent of x.\n",
      "    \n",
      "    trunc(x, /)\n",
      "        Truncates the Real x to the nearest Integral toward 0.\n",
      "        \n",
      "        Uses the __trunc__ magic method.\n",
      "\n",
      "DATA\n",
      "    e = 2.718281828459045\n",
      "    inf = inf\n",
      "    nan = nan\n",
      "    pi = 3.141592653589793\n",
      "    tau = 6.283185307179586\n",
      "\n",
      "FILE\n",
      "    (built-in)\n",
      "\n",
      "\n"
     ]
    }
   ],
   "metadata": {}
  },
  {
   "cell_type": "code",
   "execution_count": 111,
   "source": [
    "value = 4.35"
   ],
   "outputs": [],
   "metadata": {}
  },
  {
   "cell_type": "code",
   "execution_count": 112,
   "source": [
    "math.floor(value)"
   ],
   "outputs": [
    {
     "output_type": "execute_result",
     "data": {
      "text/plain": [
       "4"
      ]
     },
     "metadata": {},
     "execution_count": 112
    }
   ],
   "metadata": {}
  },
  {
   "cell_type": "code",
   "execution_count": 113,
   "source": [
    "math.ceil(value)"
   ],
   "outputs": [
    {
     "output_type": "execute_result",
     "data": {
      "text/plain": [
       "5"
      ]
     },
     "metadata": {},
     "execution_count": 113
    }
   ],
   "metadata": {}
  },
  {
   "cell_type": "code",
   "execution_count": 114,
   "source": [
    "round(4.35)"
   ],
   "outputs": [
    {
     "output_type": "execute_result",
     "data": {
      "text/plain": [
       "4"
      ]
     },
     "metadata": {},
     "execution_count": 114
    }
   ],
   "metadata": {}
  },
  {
   "cell_type": "code",
   "execution_count": 115,
   "source": [
    "round(4.5)"
   ],
   "outputs": [
    {
     "output_type": "execute_result",
     "data": {
      "text/plain": [
       "4"
      ]
     },
     "metadata": {},
     "execution_count": 115
    }
   ],
   "metadata": {}
  },
  {
   "cell_type": "code",
   "execution_count": 116,
   "source": [
    "round(4.6)"
   ],
   "outputs": [
    {
     "output_type": "execute_result",
     "data": {
      "text/plain": [
       "5"
      ]
     },
     "metadata": {},
     "execution_count": 116
    }
   ],
   "metadata": {}
  },
  {
   "cell_type": "code",
   "execution_count": 117,
   "source": [
    "math.pi"
   ],
   "outputs": [
    {
     "output_type": "execute_result",
     "data": {
      "text/plain": [
       "3.141592653589793"
      ]
     },
     "metadata": {},
     "execution_count": 117
    }
   ],
   "metadata": {}
  },
  {
   "cell_type": "code",
   "execution_count": 118,
   "source": [
    "math.e"
   ],
   "outputs": [
    {
     "output_type": "execute_result",
     "data": {
      "text/plain": [
       "2.718281828459045"
      ]
     },
     "metadata": {},
     "execution_count": 118
    }
   ],
   "metadata": {}
  },
  {
   "cell_type": "code",
   "execution_count": 119,
   "source": [
    "math.inf"
   ],
   "outputs": [
    {
     "output_type": "execute_result",
     "data": {
      "text/plain": [
       "inf"
      ]
     },
     "metadata": {},
     "execution_count": 119
    }
   ],
   "metadata": {}
  },
  {
   "cell_type": "code",
   "execution_count": 120,
   "source": [
    "math.nan"
   ],
   "outputs": [
    {
     "output_type": "execute_result",
     "data": {
      "text/plain": [
       "nan"
      ]
     },
     "metadata": {},
     "execution_count": 120
    }
   ],
   "metadata": {}
  },
  {
   "cell_type": "code",
   "execution_count": 122,
   "source": [
    "math.log(math.e)"
   ],
   "outputs": [
    {
     "output_type": "execute_result",
     "data": {
      "text/plain": [
       "1.0"
      ]
     },
     "metadata": {},
     "execution_count": 122
    }
   ],
   "metadata": {}
  },
  {
   "cell_type": "code",
   "execution_count": 123,
   "source": [
    "math.log(100,10)"
   ],
   "outputs": [
    {
     "output_type": "execute_result",
     "data": {
      "text/plain": [
       "2.0"
      ]
     },
     "metadata": {},
     "execution_count": 123
    }
   ],
   "metadata": {}
  },
  {
   "cell_type": "code",
   "execution_count": 124,
   "source": [
    "math.log(200,30)"
   ],
   "outputs": [
    {
     "output_type": "execute_result",
     "data": {
      "text/plain": [
       "1.5577800321481972"
      ]
     },
     "metadata": {},
     "execution_count": 124
    }
   ],
   "metadata": {}
  },
  {
   "cell_type": "code",
   "execution_count": 125,
   "source": [
    "math.sin(20)"
   ],
   "outputs": [
    {
     "output_type": "execute_result",
     "data": {
      "text/plain": [
       "0.9129452507276277"
      ]
     },
     "metadata": {},
     "execution_count": 125
    }
   ],
   "metadata": {}
  },
  {
   "cell_type": "code",
   "execution_count": 126,
   "source": [
    "math.degrees(math.sin(20))"
   ],
   "outputs": [
    {
     "output_type": "execute_result",
     "data": {
      "text/plain": [
       "52.307909793205816"
      ]
     },
     "metadata": {},
     "execution_count": 126
    }
   ],
   "metadata": {}
  },
  {
   "cell_type": "code",
   "execution_count": 127,
   "source": [
    "import random"
   ],
   "outputs": [],
   "metadata": {}
  },
  {
   "cell_type": "code",
   "execution_count": 142,
   "source": [
    "random.seed(42)\n",
    "random.randint(0,100)"
   ],
   "outputs": [
    {
     "output_type": "execute_result",
     "data": {
      "text/plain": [
       "81"
      ]
     },
     "metadata": {},
     "execution_count": 142
    }
   ],
   "metadata": {}
  },
  {
   "cell_type": "code",
   "execution_count": 143,
   "source": [
    "random.randint(0,100)"
   ],
   "outputs": [
    {
     "output_type": "execute_result",
     "data": {
      "text/plain": [
       "14"
      ]
     },
     "metadata": {},
     "execution_count": 143
    }
   ],
   "metadata": {}
  },
  {
   "cell_type": "code",
   "execution_count": 144,
   "source": [
    "random.randint(0,100)"
   ],
   "outputs": [
    {
     "output_type": "execute_result",
     "data": {
      "text/plain": [
       "3"
      ]
     },
     "metadata": {},
     "execution_count": 144
    }
   ],
   "metadata": {}
  },
  {
   "cell_type": "code",
   "execution_count": 145,
   "source": [
    "mylist = list(range(0,20))"
   ],
   "outputs": [],
   "metadata": {}
  },
  {
   "cell_type": "code",
   "execution_count": 146,
   "source": [
    "print(mylist)"
   ],
   "outputs": [
    {
     "output_type": "stream",
     "name": "stdout",
     "text": [
      "[0, 1, 2, 3, 4, 5, 6, 7, 8, 9, 10, 11, 12, 13, 14, 15, 16, 17, 18, 19]\n"
     ]
    }
   ],
   "metadata": {}
  },
  {
   "cell_type": "code",
   "execution_count": 147,
   "source": [
    "random.choice(mylist)"
   ],
   "outputs": [
    {
     "output_type": "execute_result",
     "data": {
      "text/plain": [
       "8"
      ]
     },
     "metadata": {},
     "execution_count": 147
    }
   ],
   "metadata": {}
  },
  {
   "cell_type": "code",
   "execution_count": 155,
   "source": [
    "random.seed(42)"
   ],
   "outputs": [],
   "metadata": {}
  },
  {
   "cell_type": "code",
   "execution_count": 156,
   "source": [
    "random.choice(mylist)"
   ],
   "outputs": [
    {
     "output_type": "execute_result",
     "data": {
      "text/plain": [
       "3"
      ]
     },
     "metadata": {},
     "execution_count": 156
    }
   ],
   "metadata": {}
  },
  {
   "cell_type": "code",
   "execution_count": 159,
   "source": [
    "random.choices(population=mylist,k=10)"
   ],
   "outputs": [
    {
     "output_type": "execute_result",
     "data": {
      "text/plain": [
       "[0, 5, 4, 14, 13, 17, 1, 8, 0, 4]"
      ]
     },
     "metadata": {},
     "execution_count": 159
    }
   ],
   "metadata": {}
  },
  {
   "cell_type": "code",
   "execution_count": 160,
   "source": [
    "random.sample(range(100000),4)"
   ],
   "outputs": [
    {
     "output_type": "execute_result",
     "data": {
      "text/plain": [
       "[66237, 78907, 3478, 73563]"
      ]
     },
     "metadata": {},
     "execution_count": 160
    }
   ],
   "metadata": {}
  },
  {
   "cell_type": "code",
   "execution_count": 161,
   "source": [
    "random.sample(mylist,3)"
   ],
   "outputs": [
    {
     "output_type": "execute_result",
     "data": {
      "text/plain": [
       "[6, 17, 13]"
      ]
     },
     "metadata": {},
     "execution_count": 161
    }
   ],
   "metadata": {}
  },
  {
   "cell_type": "code",
   "execution_count": 163,
   "source": [
    "random.shuffle(mylist)"
   ],
   "outputs": [],
   "metadata": {}
  },
  {
   "cell_type": "code",
   "execution_count": 164,
   "source": [
    "mylist"
   ],
   "outputs": [
    {
     "output_type": "execute_result",
     "data": {
      "text/plain": [
       "[18, 17, 19, 10, 13, 9, 16, 1, 12, 3, 2, 4, 15, 6, 11, 5, 0, 8, 14, 7]"
      ]
     },
     "metadata": {},
     "execution_count": 164
    }
   ],
   "metadata": {}
  },
  {
   "cell_type": "code",
   "execution_count": 165,
   "source": [
    "mylist"
   ],
   "outputs": [
    {
     "output_type": "execute_result",
     "data": {
      "text/plain": [
       "[18, 17, 19, 10, 13, 9, 16, 1, 12, 3, 2, 4, 15, 6, 11, 5, 0, 8, 14, 7]"
      ]
     },
     "metadata": {},
     "execution_count": 165
    }
   ],
   "metadata": {}
  },
  {
   "cell_type": "code",
   "execution_count": 166,
   "source": [
    "random.uniform(2,10)"
   ],
   "outputs": [
    {
     "output_type": "execute_result",
     "data": {
      "text/plain": [
       "8.45702618619504"
      ]
     },
     "metadata": {},
     "execution_count": 166
    }
   ],
   "metadata": {}
  },
  {
   "cell_type": "code",
   "execution_count": 167,
   "source": [
    "random.gauss(0,5)"
   ],
   "outputs": [
    {
     "output_type": "execute_result",
     "data": {
      "text/plain": [
       "-0.7872068788509355"
      ]
     },
     "metadata": {},
     "execution_count": 167
    }
   ],
   "metadata": {}
  },
  {
   "cell_type": "code",
   "execution_count": 168,
   "source": [
    "delete('./practice.txt')"
   ],
   "outputs": [],
   "metadata": {}
  },
  {
   "cell_type": "markdown",
   "source": [
    "<h1>Python Debuggin</h1>"
   ],
   "metadata": {}
  },
  {
   "cell_type": "code",
   "execution_count": 3,
   "source": [
    "x = [1,2,3]\n",
    "y = 2\n",
    "z = 3"
   ],
   "outputs": [],
   "metadata": {}
  },
  {
   "cell_type": "code",
   "execution_count": 4,
   "source": [
    "import pdb"
   ],
   "outputs": [],
   "metadata": {}
  },
  {
   "cell_type": "code",
   "execution_count": 5,
   "source": [
    "x = [1,2,3]\n",
    "y = 2\n",
    "z = 3\n",
    "\n",
    "result_one = y + z\n",
    "\n",
    "pdb.set_trace()\n",
    "result_two = y + x"
   ],
   "outputs": [
    {
     "output_type": "stream",
     "name": "stdout",
     "text": [
      "--Return--\n",
      "None\n",
      "> \u001b[0;32m<ipython-input-5-2653c393277e>\u001b[0m(7)\u001b[0;36m<module>\u001b[0;34m()\u001b[0m\n",
      "\u001b[0;32m      4 \u001b[0;31m\u001b[0;34m\u001b[0m\u001b[0m\n",
      "\u001b[0m\u001b[0;32m      5 \u001b[0;31m\u001b[0mresult_one\u001b[0m \u001b[0;34m=\u001b[0m \u001b[0my\u001b[0m \u001b[0;34m+\u001b[0m \u001b[0mz\u001b[0m\u001b[0;34m\u001b[0m\u001b[0;34m\u001b[0m\u001b[0m\n",
      "\u001b[0m\u001b[0;32m      6 \u001b[0;31m\u001b[0;34m\u001b[0m\u001b[0m\n",
      "\u001b[0m\u001b[0;32m----> 7 \u001b[0;31m\u001b[0mpdb\u001b[0m\u001b[0;34m.\u001b[0m\u001b[0mset_trace\u001b[0m\u001b[0;34m(\u001b[0m\u001b[0;34m)\u001b[0m\u001b[0;34m\u001b[0m\u001b[0;34m\u001b[0m\u001b[0m\n",
      "\u001b[0m\u001b[0;32m      8 \u001b[0;31m\u001b[0mresult_two\u001b[0m \u001b[0;34m=\u001b[0m \u001b[0my\u001b[0m \u001b[0;34m+\u001b[0m \u001b[0mx\u001b[0m\u001b[0;34m\u001b[0m\u001b[0;34m\u001b[0m\u001b[0m\n",
      "\u001b[0m\n",
      "[1, 2, 3]\n",
      "5\n",
      "2\n",
      "*** TypeError: can only concatenate list (not \"int\") to list\n",
      "*** TypeError: can only concatenate list (not \"int\") to list\n",
      "*** NameError: name 'stop' is not defined\n"
     ]
    },
    {
     "output_type": "error",
     "ename": "BdbQuit",
     "evalue": "",
     "traceback": [
      "\u001b[0;31m---------------------------------------------------------------------------\u001b[0m",
      "\u001b[0;31mBdbQuit\u001b[0m                                   Traceback (most recent call last)",
      "\u001b[0;32m<ipython-input-5-2653c393277e>\u001b[0m in \u001b[0;36m<module>\u001b[0;34m\u001b[0m\n\u001b[1;32m      5\u001b[0m \u001b[0mresult_one\u001b[0m \u001b[0;34m=\u001b[0m \u001b[0my\u001b[0m \u001b[0;34m+\u001b[0m \u001b[0mz\u001b[0m\u001b[0;34m\u001b[0m\u001b[0;34m\u001b[0m\u001b[0m\n\u001b[1;32m      6\u001b[0m \u001b[0;34m\u001b[0m\u001b[0m\n\u001b[0;32m----> 7\u001b[0;31m \u001b[0mpdb\u001b[0m\u001b[0;34m.\u001b[0m\u001b[0mset_trace\u001b[0m\u001b[0;34m(\u001b[0m\u001b[0;34m)\u001b[0m\u001b[0;34m\u001b[0m\u001b[0;34m\u001b[0m\u001b[0m\n\u001b[0m\u001b[1;32m      8\u001b[0m \u001b[0mresult_two\u001b[0m \u001b[0;34m=\u001b[0m \u001b[0my\u001b[0m \u001b[0;34m+\u001b[0m \u001b[0mx\u001b[0m\u001b[0;34m\u001b[0m\u001b[0;34m\u001b[0m\u001b[0m\n",
      "\u001b[0;32m/usr/lib/python3.7/bdb.py\u001b[0m in \u001b[0;36mtrace_dispatch\u001b[0;34m(self, frame, event, arg)\u001b[0m\n\u001b[1;32m     90\u001b[0m             \u001b[0;32mreturn\u001b[0m \u001b[0mself\u001b[0m\u001b[0;34m.\u001b[0m\u001b[0mdispatch_call\u001b[0m\u001b[0;34m(\u001b[0m\u001b[0mframe\u001b[0m\u001b[0;34m,\u001b[0m \u001b[0marg\u001b[0m\u001b[0;34m)\u001b[0m\u001b[0;34m\u001b[0m\u001b[0;34m\u001b[0m\u001b[0m\n\u001b[1;32m     91\u001b[0m         \u001b[0;32mif\u001b[0m \u001b[0mevent\u001b[0m \u001b[0;34m==\u001b[0m \u001b[0;34m'return'\u001b[0m\u001b[0;34m:\u001b[0m\u001b[0;34m\u001b[0m\u001b[0;34m\u001b[0m\u001b[0m\n\u001b[0;32m---> 92\u001b[0;31m             \u001b[0;32mreturn\u001b[0m \u001b[0mself\u001b[0m\u001b[0;34m.\u001b[0m\u001b[0mdispatch_return\u001b[0m\u001b[0;34m(\u001b[0m\u001b[0mframe\u001b[0m\u001b[0;34m,\u001b[0m \u001b[0marg\u001b[0m\u001b[0;34m)\u001b[0m\u001b[0;34m\u001b[0m\u001b[0;34m\u001b[0m\u001b[0m\n\u001b[0m\u001b[1;32m     93\u001b[0m         \u001b[0;32mif\u001b[0m \u001b[0mevent\u001b[0m \u001b[0;34m==\u001b[0m \u001b[0;34m'exception'\u001b[0m\u001b[0;34m:\u001b[0m\u001b[0;34m\u001b[0m\u001b[0;34m\u001b[0m\u001b[0m\n\u001b[1;32m     94\u001b[0m             \u001b[0;32mreturn\u001b[0m \u001b[0mself\u001b[0m\u001b[0;34m.\u001b[0m\u001b[0mdispatch_exception\u001b[0m\u001b[0;34m(\u001b[0m\u001b[0mframe\u001b[0m\u001b[0;34m,\u001b[0m \u001b[0marg\u001b[0m\u001b[0;34m)\u001b[0m\u001b[0;34m\u001b[0m\u001b[0;34m\u001b[0m\u001b[0m\n",
      "\u001b[0;32m/usr/lib/python3.7/bdb.py\u001b[0m in \u001b[0;36mdispatch_return\u001b[0;34m(self, frame, arg)\u001b[0m\n\u001b[1;32m    152\u001b[0m             \u001b[0;32mfinally\u001b[0m\u001b[0;34m:\u001b[0m\u001b[0;34m\u001b[0m\u001b[0;34m\u001b[0m\u001b[0m\n\u001b[1;32m    153\u001b[0m                 \u001b[0mself\u001b[0m\u001b[0;34m.\u001b[0m\u001b[0mframe_returning\u001b[0m \u001b[0;34m=\u001b[0m \u001b[0;32mNone\u001b[0m\u001b[0;34m\u001b[0m\u001b[0;34m\u001b[0m\u001b[0m\n\u001b[0;32m--> 154\u001b[0;31m             \u001b[0;32mif\u001b[0m \u001b[0mself\u001b[0m\u001b[0;34m.\u001b[0m\u001b[0mquitting\u001b[0m\u001b[0;34m:\u001b[0m \u001b[0;32mraise\u001b[0m \u001b[0mBdbQuit\u001b[0m\u001b[0;34m\u001b[0m\u001b[0;34m\u001b[0m\u001b[0m\n\u001b[0m\u001b[1;32m    155\u001b[0m             \u001b[0;31m# The user issued a 'next' or 'until' command.\u001b[0m\u001b[0;34m\u001b[0m\u001b[0;34m\u001b[0m\u001b[0;34m\u001b[0m\u001b[0m\n\u001b[1;32m    156\u001b[0m             \u001b[0;32mif\u001b[0m \u001b[0mself\u001b[0m\u001b[0;34m.\u001b[0m\u001b[0mstopframe\u001b[0m \u001b[0;32mis\u001b[0m \u001b[0mframe\u001b[0m \u001b[0;32mand\u001b[0m \u001b[0mself\u001b[0m\u001b[0;34m.\u001b[0m\u001b[0mstoplineno\u001b[0m \u001b[0;34m!=\u001b[0m \u001b[0;34m-\u001b[0m\u001b[0;36m1\u001b[0m\u001b[0;34m:\u001b[0m\u001b[0;34m\u001b[0m\u001b[0;34m\u001b[0m\u001b[0m\n",
      "\u001b[0;31mBdbQuit\u001b[0m: "
     ]
    }
   ],
   "metadata": {}
  },
  {
   "cell_type": "markdown",
   "source": [
    "<h2>Python Regular Expressions</h2>"
   ],
   "metadata": {}
  },
  {
   "cell_type": "code",
   "execution_count": 1,
   "source": [
    "import re"
   ],
   "outputs": [],
   "metadata": {}
  },
  {
   "cell_type": "code",
   "execution_count": 2,
   "source": [
    "numbers = [123,432,353,444,556]\n",
    "r\"\\d\\d\\d\""
   ],
   "outputs": [
    {
     "output_type": "execute_result",
     "data": {
      "text/plain": [
       "'\\\\d\\\\d\\\\d'"
      ]
     },
     "metadata": {},
     "execution_count": 2
    }
   ],
   "metadata": {}
  },
  {
   "cell_type": "code",
   "execution_count": 3,
   "source": [
    "finder = r\"1\\d\\d\""
   ],
   "outputs": [],
   "metadata": {}
  },
  {
   "cell_type": "code",
   "execution_count": 4,
   "source": [
    "finder"
   ],
   "outputs": [
    {
     "output_type": "execute_result",
     "data": {
      "text/plain": [
       "'1\\\\d\\\\d'"
      ]
     },
     "metadata": {},
     "execution_count": 4
    }
   ],
   "metadata": {}
  },
  {
   "cell_type": "code",
   "execution_count": 5,
   "source": [
    "text = \"The agent's phone number is 408-555-1234. Call soon!\""
   ],
   "outputs": [],
   "metadata": {}
  },
  {
   "cell_type": "code",
   "execution_count": 6,
   "source": [
    "'phone' in text"
   ],
   "outputs": [
    {
     "output_type": "execute_result",
     "data": {
      "text/plain": [
       "True"
      ]
     },
     "metadata": {},
     "execution_count": 6
    }
   ],
   "metadata": {}
  },
  {
   "cell_type": "code",
   "execution_count": 7,
   "source": [
    "pattern = 'phone'"
   ],
   "outputs": [],
   "metadata": {}
  },
  {
   "cell_type": "code",
   "execution_count": 8,
   "source": [
    "re.search(pattern,text)"
   ],
   "outputs": [
    {
     "output_type": "execute_result",
     "data": {
      "text/plain": [
       "<re.Match object; span=(12, 17), match='phone'>"
      ]
     },
     "metadata": {},
     "execution_count": 8
    }
   ],
   "metadata": {}
  },
  {
   "cell_type": "code",
   "execution_count": 9,
   "source": [
    "match = re.search(pattern,text)"
   ],
   "outputs": [],
   "metadata": {}
  },
  {
   "cell_type": "code",
   "execution_count": 10,
   "source": [
    "match.span"
   ],
   "outputs": [
    {
     "output_type": "execute_result",
     "data": {
      "text/plain": [
       "<function Match.span(group=0, /)>"
      ]
     },
     "metadata": {},
     "execution_count": 10
    }
   ],
   "metadata": {}
  },
  {
   "cell_type": "code",
   "execution_count": 11,
   "source": [
    "match.span()"
   ],
   "outputs": [
    {
     "output_type": "execute_result",
     "data": {
      "text/plain": [
       "(12, 17)"
      ]
     },
     "metadata": {},
     "execution_count": 11
    }
   ],
   "metadata": {}
  },
  {
   "cell_type": "code",
   "execution_count": 12,
   "source": [
    "match.end()"
   ],
   "outputs": [
    {
     "output_type": "execute_result",
     "data": {
      "text/plain": [
       "17"
      ]
     },
     "metadata": {},
     "execution_count": 12
    }
   ],
   "metadata": {}
  },
  {
   "cell_type": "code",
   "execution_count": 13,
   "source": [
    "re.findall(pattern,text)"
   ],
   "outputs": [
    {
     "output_type": "execute_result",
     "data": {
      "text/plain": [
       "['phone']"
      ]
     },
     "metadata": {},
     "execution_count": 13
    }
   ],
   "metadata": {}
  },
  {
   "cell_type": "code",
   "execution_count": null,
   "source": [],
   "outputs": [],
   "metadata": {}
  }
 ],
 "metadata": {
  "orig_nbformat": 4,
  "language_info": {
   "name": "python",
   "version": "3.7.3",
   "mimetype": "text/x-python",
   "codemirror_mode": {
    "name": "ipython",
    "version": 3
   },
   "pygments_lexer": "ipython3",
   "nbconvert_exporter": "python",
   "file_extension": ".py"
  },
  "kernelspec": {
   "name": "python3",
   "display_name": "Python 3.7.3 32-bit ('.env': venv)"
  },
  "interpreter": {
   "hash": "85bcedf7e943e3a353ee397a333dd58d560576a632a419da4b35528150d78f20"
  }
 },
 "nbformat": 4,
 "nbformat_minor": 2
}