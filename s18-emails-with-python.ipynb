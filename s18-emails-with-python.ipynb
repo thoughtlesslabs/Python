{
 "cells": [
  {
   "cell_type": "markdown",
   "source": [
    "<h1>Emails with Python</h1>"
   ],
   "metadata": {}
  },
  {
   "cell_type": "code",
   "execution_count": 15,
   "source": [
    "import smtplib\n",
    "import imaplib\n",
    "import getpass"
   ],
   "outputs": [],
   "metadata": {}
  },
  {
   "cell_type": "code",
   "execution_count": null,
   "source": [
    "\n"
   ],
   "outputs": [],
   "metadata": {}
  },
  {
   "cell_type": "code",
   "execution_count": 17,
   "source": [
    "imap = imaplib.IMAP4_SSL('imap.gmail.com')\n",
    "smtp_object = smtplib.SMTP('smtp.gmail.com',587)\n",
    "smtp_object.ehlo()\n",
    "smtp_object.starttls()\n",
    "email = getpass.getpass(\"Email: \")\n",
    "password = getpass.getpass('What is your password? ')\n",
    "smtp_object.login(email,password)\n",
    "imap.login(email,password)"
   ],
   "outputs": [
    {
     "output_type": "execute_result",
     "data": {
      "text/plain": [
       "('OK', [b'thoughtlessopinions@gmail.com authenticated (Success)'])"
      ]
     },
     "metadata": {},
     "execution_count": 17
    }
   ],
   "metadata": {}
  },
  {
   "cell_type": "code",
   "execution_count": 18,
   "source": [
    "from_address = email\n",
    "to_address = email\n",
    "subject = input('Subject: ')\n",
    "message = input('Body:')\n",
    "msg = \"Subject: \"+subject+'\\n'+message\n",
    "\n",
    "smtp_object.sendmail(from_address,to_address,msg)"
   ],
   "outputs": [
    {
     "output_type": "execute_result",
     "data": {
      "text/plain": [
       "{}"
      ]
     },
     "metadata": {},
     "execution_count": 18
    }
   ],
   "metadata": {}
  },
  {
   "cell_type": "code",
   "execution_count": 20,
   "source": [
    "imap.list()\n",
    "imap.select('inbox')"
   ],
   "outputs": [
    {
     "output_type": "execute_result",
     "data": {
      "text/plain": [
       "('OK', [b'1988'])"
      ]
     },
     "metadata": {},
     "execution_count": 20
    }
   ],
   "metadata": {}
  },
  {
   "cell_type": "code",
   "execution_count": 23,
   "source": [
    "typ, data = imap.search(None,'SUBJECT \"Spooky Spooky Ghosts\"')"
   ],
   "outputs": [],
   "metadata": {}
  },
  {
   "cell_type": "code",
   "execution_count": 28,
   "source": [
    "email_id = data[0]"
   ],
   "outputs": [],
   "metadata": {}
  },
  {
   "cell_type": "code",
   "execution_count": 30,
   "source": [
    "result , email_data = imap.fetch(email_id,'(RFC822)')"
   ],
   "outputs": [],
   "metadata": {}
  },
  {
   "cell_type": "code",
   "execution_count": 31,
   "source": [
    "email_data"
   ],
   "outputs": [
    {
     "output_type": "execute_result",
     "data": {
      "text/plain": [
       "[(b'1988 (RFC822 {624}',\n",
       "  b'Bcc: thoughtlessopinions@gmail.com\\r\\nReturn-Path: <thoughtlessopinions@gmail.com>\\r\\nReceived: from 1.0.0.127.in-addr.arpa ([2607:fea8:4f21:4900:7c3c:59b0:bf92:7095])\\r\\n        by smtp.gmail.com with ESMTPSA id q10sm11836910qke.108.2021.08.24.12.11.29\\r\\n        for <thoughtlessopinions@gmail.com>\\r\\n        (version=TLS1_3 cipher=TLS_AES_256_GCM_SHA384 bits=256/256);\\r\\n        Tue, 24 Aug 2021 12:11:30 -0700 (PDT)\\r\\nMessage-ID: <61254462.1c69fb81.92d75.1d45@mx.google.com>\\r\\nDate: Tue, 24 Aug 2021 12:11:30 -0700 (PDT)\\r\\nFrom: thoughtlessopinions@gmail.com\\r\\nSubject: Spooky Spooky Ghosts\\r\\n\\r\\nYou are a silly goose you spooky ghost\\r\\n'),\n",
       " b' FLAGS (\\\\Seen))']"
      ]
     },
     "metadata": {},
     "execution_count": 31
    }
   ],
   "metadata": {}
  },
  {
   "cell_type": "code",
   "execution_count": 32,
   "source": [
    "raw_email = email_data[0][1]\n",
    "raw_email_string = raw_email.decode('utf-8')\n",
    "import email\n",
    "\n",
    "email_message = email.message_from_string(raw_email_string)\n",
    "\n",
    "for part in email_message.walk():\n",
    "    if part.get_content_type() == 'text/plain':\n",
    "        body = part.get_payload(decode=True)\n",
    "        print(body)"
   ],
   "outputs": [
    {
     "output_type": "stream",
     "name": "stdout",
     "text": [
      "b'You are a silly goose you spooky ghost\\r\\n'\n"
     ]
    }
   ],
   "metadata": {}
  },
  {
   "cell_type": "code",
   "execution_count": 13,
   "source": [
    "smtp_object.quit()"
   ],
   "outputs": [
    {
     "output_type": "execute_result",
     "data": {
      "text/plain": [
       "{}"
      ]
     },
     "metadata": {},
     "execution_count": 13
    }
   ],
   "metadata": {}
  },
  {
   "cell_type": "code",
   "execution_count": 14,
   "source": [],
   "outputs": [
    {
     "output_type": "execute_result",
     "data": {
      "text/plain": [
       "(221, b'2.0.0 closing connection d12sm6646191qtq.61 - gsmtp')"
      ]
     },
     "metadata": {},
     "execution_count": 14
    }
   ],
   "metadata": {}
  },
  {
   "cell_type": "code",
   "execution_count": null,
   "source": [],
   "outputs": [],
   "metadata": {}
  }
 ],
 "metadata": {
  "orig_nbformat": 4,
  "language_info": {
   "name": "python",
   "version": "3.9.6",
   "mimetype": "text/x-python",
   "codemirror_mode": {
    "name": "ipython",
    "version": 3
   },
   "pygments_lexer": "ipython3",
   "nbconvert_exporter": "python",
   "file_extension": ".py"
  },
  "kernelspec": {
   "name": "python3",
   "display_name": "Python 3.9.6 64-bit ('.env': venv)"
  },
  "interpreter": {
   "hash": "adb279f9b8f483f253c040bdb0b2eb9bd7bad53e9c6360ebd550361689bb9425"
  }
 },
 "nbformat": 4,
 "nbformat_minor": 2
}