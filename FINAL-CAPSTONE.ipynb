{
 "cells": [
  {
   "cell_type": "markdown",
   "source": [
    "<h1>Final Capstone</h1>"
   ],
   "metadata": {}
  },
  {
   "cell_type": "markdown",
   "source": [
    "Pick a project that you are going to be able to finish in a day"
   ],
   "metadata": {}
  },
  {
   "cell_type": "code",
   "execution_count": 18,
   "source": [
    "# Tipping Calculator\n",
    "\n",
    "# Input total bill amount\n",
    "\n",
    "def bill():\n",
    "\n",
    "    total_bill = float(input('What is the total of your bill?'))\n",
    "    percentage = float(input('What percentage tip do you want to leave? (ex 10)'))\n",
    "\n",
    "    tip = (total_bill * percentage) /100\n",
    "\n",
    "    print('Your total tip should be ${:.2f}'.format(tip))\n",
    "\n",
    "bill()\n",
    "\n",
    "# Choose a tip percentage\n",
    "\n",
    "# Get total tip amount"
   ],
   "outputs": [
    {
     "output_type": "stream",
     "name": "stdout",
     "text": [
      "Your total tip should be 40.68%\n"
     ]
    }
   ],
   "metadata": {}
  },
  {
   "cell_type": "code",
   "execution_count": null,
   "source": [],
   "outputs": [],
   "metadata": {}
  },
  {
   "cell_type": "markdown",
   "source": [
    "Pick a project that you are going to be able to finish in a week"
   ],
   "metadata": {}
  },
  {
   "cell_type": "markdown",
   "source": [],
   "metadata": {}
  }
 ],
 "metadata": {
  "orig_nbformat": 4,
  "language_info": {
   "name": "python",
   "version": "3.9.6",
   "mimetype": "text/x-python",
   "codemirror_mode": {
    "name": "ipython",
    "version": 3
   },
   "pygments_lexer": "ipython3",
   "nbconvert_exporter": "python",
   "file_extension": ".py"
  },
  "kernelspec": {
   "name": "python3",
   "display_name": "Python 3.9.6 64-bit ('.env': venv)"
  },
  "interpreter": {
   "hash": "760832a78512b4ac307c0d5b9194a83685815978388a2fb810be0b1cc661fc29"
  }
 },
 "nbformat": 4,
 "nbformat_minor": 2
}