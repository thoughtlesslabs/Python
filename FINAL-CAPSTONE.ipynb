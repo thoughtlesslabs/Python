{
 "cells": [
  {
   "cell_type": "markdown",
   "source": [
    "<h1>Final Capstone</h1>"
   ],
   "metadata": {}
  },
  {
   "cell_type": "markdown",
   "source": [
    "Pick a project that you are going to be able to finish in a day"
   ],
   "metadata": {}
  },
  {
   "cell_type": "markdown",
   "source": [
    "Pick a project that you are going to be able to finish in a week"
   ],
   "metadata": {}
  },
  {
   "cell_type": "markdown",
   "source": [],
   "metadata": {}
  }
 ],
 "metadata": {
  "orig_nbformat": 4,
  "language_info": {
   "name": "python"
  }
 },
 "nbformat": 4,
 "nbformat_minor": 2
}