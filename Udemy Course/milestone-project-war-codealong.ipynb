{
 "metadata": {
  "language_info": {
   "codemirror_mode": {
    "name": "ipython",
    "version": 3
   },
   "file_extension": ".py",
   "mimetype": "text/x-python",
   "name": "python",
   "nbconvert_exporter": "python",
   "pygments_lexer": "ipython3",
   "version": "3.7.3"
  },
  "orig_nbformat": 2,
  "kernelspec": {
   "name": "pythonjvsc74a57bd01ba188f98e499a3304a6ae22c9e827fc0e63a4c2183d68116e6cb5cbe6d59da4",
   "display_name": "Python 3.7.3  ('.env': venv)"
  },
  "metadata": {
   "interpreter": {
    "hash": "1ba188f98e499a3304a6ae22c9e827fc0e63a4c2183d68116e6cb5cbe6d59da4"
   }
  }
 },
 "nbformat": 4,
 "nbformat_minor": 2,
 "cells": [
  {
   "cell_type": "code",
   "execution_count": 11,
   "metadata": {},
   "outputs": [],
   "source": [
    "import random\n",
    "\n",
    "suits = ('Hearts','Diamonds','Spades','Clubs')\n",
    "ranks= ('Two','Three','Four','Five','Six','Seven','Eight','Nine','Ten','Jack','Queen','King','Ace')\n",
    "values = {'Two':2, 'Three':3, 'Four':4, 'Five':5, 'Six':6, 'Seven': 7, 'Eight':8, 'Nine':9, 'Ten':10, 'Jack':11, 'Queen':12, 'King':13, 'Ace':14}\n",
    "\n",
    "class Card:\n",
    "\n",
    "    def __init__(self,suit,rank):\n",
    "        self.suit = suit\n",
    "        self.rank = rank\n",
    "        self.value = values[rank]\n",
    "\n",
    "    def __str__(self):\n",
    "        return self.rank + \" of \" + self.suit"
   ]
  },
  {
   "cell_type": "code",
   "execution_count": null,
   "metadata": {},
   "outputs": [],
   "source": [
    "three_of_clubs = Card(\"Clubs\",\"Three\")"
   ]
  },
  {
   "cell_type": "code",
   "execution_count": null,
   "metadata": {},
   "outputs": [],
   "source": [
    "three_of_clubs.value"
   ]
  },
  {
   "cell_type": "code",
   "execution_count": null,
   "metadata": {},
   "outputs": [],
   "source": [
    "two_hearts = Card(\"Hearts\", \"Two\")"
   ]
  },
  {
   "cell_type": "code",
   "execution_count": null,
   "metadata": {},
   "outputs": [],
   "source": [
    "print(two_hearts)"
   ]
  },
  {
   "cell_type": "code",
   "execution_count": null,
   "metadata": {},
   "outputs": [],
   "source": [
    "two_hearts.rank"
   ]
  },
  {
   "cell_type": "code",
   "execution_count": null,
   "metadata": {},
   "outputs": [],
   "source": [
    "values[two_hearts.rank]"
   ]
  },
  {
   "cell_type": "code",
   "execution_count": null,
   "metadata": {},
   "outputs": [],
   "source": [
    "two_hearts.value >= three_of_clubs.value"
   ]
  },
  {
   "cell_type": "code",
   "execution_count": 14,
   "metadata": {},
   "outputs": [],
   "source": [
    "class Deck():\n",
    "    \n",
    "    def __init__(self):\n",
    "\n",
    "        self.all_cards = []\n",
    "\n",
    "        for suit in suits:\n",
    "            for rank in ranks:\n",
    "                created_card = Card(suit,rank)\n",
    "                self.all_cards.append(created_card)\n",
    "    \n",
    "    def shuffle(self):\n",
    "        random.shuffle(self.all_cards)\n",
    "\n",
    "    def deal_one(self):\n",
    "        return self.all_cards.pop()"
   ]
  },
  {
   "cell_type": "code",
   "execution_count": null,
   "metadata": {},
   "outputs": [],
   "source": [
    "new_deck = Deck()"
   ]
  },
  {
   "cell_type": "code",
   "execution_count": null,
   "metadata": {},
   "outputs": [],
   "source": [
    "new_deck.shuffle()"
   ]
  },
  {
   "cell_type": "code",
   "execution_count": null,
   "metadata": {},
   "outputs": [],
   "source": [
    "for card_object in new_deck.all_cards:\n",
    "    print(card_object)"
   ]
  },
  {
   "cell_type": "code",
   "execution_count": null,
   "metadata": {},
   "outputs": [],
   "source": [
    "mycard = new_deck.deal_one()"
   ]
  },
  {
   "cell_type": "code",
   "execution_count": null,
   "metadata": {},
   "outputs": [],
   "source": [
    "print(mycard.value)"
   ]
  },
  {
   "source": [
    "print(mycard.suit)"
   ],
   "cell_type": "code",
   "metadata": {},
   "execution_count": null,
   "outputs": []
  },
  {
   "cell_type": "code",
   "execution_count": null,
   "metadata": {},
   "outputs": [],
   "source": [
    "print(mycard.rank)"
   ]
  },
  {
   "cell_type": "code",
   "execution_count": null,
   "metadata": {},
   "outputs": [],
   "source": [
    "print(mycard)"
   ]
  },
  {
   "cell_type": "code",
   "execution_count": 15,
   "metadata": {},
   "outputs": [],
   "source": [
    "class Player():\n",
    "\n",
    "    def __init__(self,name):\n",
    "\n",
    "        self.name = name \n",
    "        self.all_cards = []\n",
    "\n",
    "    def remove_one(self):\n",
    "        return self.all_cards.pop(0)\n",
    "\n",
    "    def add_cards(self,new_cards):\n",
    "        if type(new_cards) == type([]):\n",
    "            # For Multiple card objects\n",
    "            self.all_cards.extend(new_cards)\n",
    "        else:\n",
    "            # For Single Cards\n",
    "            self.all_cards.append(new_cards)\n",
    "\n",
    "    def __str__(self):\n",
    "        return f'Player {selfplay.name} has {len(self.all_cards)} cards.'"
   ]
  },
  {
   "cell_type": "code",
   "execution_count": null,
   "metadata": {},
   "outputs": [],
   "source": [
    "new_player = Player('John')"
   ]
  },
  {
   "cell_type": "code",
   "execution_count": null,
   "metadata": {},
   "outputs": [],
   "source": [
    "print(new_player)"
   ]
  },
  {
   "cell_type": "code",
   "execution_count": null,
   "metadata": {},
   "outputs": [],
   "source": [
    "new_player.add_cards(mycard)"
   ]
  },
  {
   "cell_type": "code",
   "execution_count": null,
   "metadata": {},
   "outputs": [],
   "source": [
    "print(mycard)"
   ]
  },
  {
   "cell_type": "code",
   "execution_count": null,
   "metadata": {},
   "outputs": [],
   "source": [
    "new_player.add_cards([mycard,mycard,mycard])"
   ]
  },
  {
   "cell_type": "code",
   "execution_count": null,
   "metadata": {},
   "outputs": [],
   "source": [
    "print(mycard)"
   ]
  },
  {
   "cell_type": "code",
   "execution_count": null,
   "metadata": {},
   "outputs": [],
   "source": [
    "new_player.remove_one()"
   ]
  },
  {
   "cell_type": "code",
   "execution_count": null,
   "metadata": {},
   "outputs": [],
   "source": [
    "print(new_player)"
   ]
  },
  {
   "cell_type": "code",
   "execution_count": null,
   "metadata": {},
   "outputs": [],
   "source": [
    "new_deck = Deck()"
   ]
  },
  {
   "cell_type": "code",
   "execution_count": null,
   "metadata": {},
   "outputs": [],
   "source": [
    "new_deck.shuffle"
   ]
  },
  {
   "cell_type": "code",
   "execution_count": null,
   "metadata": {},
   "outputs": [],
   "source": [
    "player_one=Player('One')"
   ]
  },
  {
   "cell_type": "code",
   "execution_count": null,
   "metadata": {},
   "outputs": [],
   "source": [
    "player_one.add_cards(new_deck.deal_one())"
   ]
  },
  {
   "cell_type": "code",
   "execution_count": null,
   "metadata": {},
   "outputs": [],
   "source": [
    "print(len(player_one.all_cards))"
   ]
  },
  {
   "cell_type": "code",
   "execution_count": 22,
   "metadata": {},
   "outputs": [],
   "source": [
    "#GAME SETUP\n",
    "\n",
    "player_one = Player('One')\n",
    "player_two = Player('Two')\n",
    "\n",
    "new_deck = Deck()\n",
    "new_deck.shuffle()\n",
    "\n",
    "for x in range(26):\n",
    "    player_one.add_cards(new_deck.deal_one())\n",
    "    player_two.add_cards(new_deck.deal_one())"
   ]
  },
  {
   "cell_type": "code",
   "execution_count": 23,
   "metadata": {},
   "outputs": [],
   "source": [
    "game_on = True"
   ]
  },
  {
   "cell_type": "code",
   "execution_count": 27,
   "metadata": {},
   "outputs": [
    {
     "output_type": "stream",
     "name": "stdout",
     "text": [
      "Round: 1\nWAR!\nWAR!\nPlayer Two has a Ace of Diamonds and wins against Player One's Three of Clubs\nRound: 2\nPlayer Two has a Ten of Spades and wins against Player One's Four of Clubs\nRound: 3\nPlayer One has a Ace of Hearts and wins against Player Two's Nine of Clubs\nRound: 4\nPlayer One has a Eight of Diamonds and wins against Player Two's Five of Spades\nRound: 5\nPlayer Two has a Seven of Hearts and wins against Player One's Three of Spades\nRound: 6\nPlayer One has a Queen of Spades and wins against Player Two's Seven of Diamonds\nRound: 7\nPlayer One has a Nine of Spades and wins against Player Two's Three of Hearts\nRound: 8\nPlayer Two has a Ace of Clubs and wins against Player One's Six of Spades\nRound: 9\nPlayer One has a Nine of Diamonds and wins against Player Two's Six of Diamonds\nRound: 10\nPlayer One has a Eight of Clubs and wins against Player Two's Six of Hearts\nRound: 11\nWAR!\nWAR!\nPlayer One has a Queen of Spades and wins against Player Two's Nine of Hearts\nRound: 12\nPlayer Two has a Ten of Hearts and wins against Player One's Seven of Diamonds\nRound: 13\nPlayer Two has a Jack of Diamonds and wins against Player One's Nine of Spades\nRound: 14\nPlayer Two has a King of Diamonds and wins against Player One's Three of Hearts\nRound: 15\nPlayer One has a Nine of Diamonds and wins against Player Two's Four of Diamonds\nRound: 16\nPlayer One has a Six of Diamonds and wins against Player Two's Two of Hearts\nRound: 17\nPlayer One has a Eight of Clubs and wins against Player Two's Three of Clubs\nRound: 18\nPlayer Two has a Seven of Clubs and wins against Player One's Six of Hearts\nRound: 19\nPlayer One has a Five of Clubs and wins against Player Two's Two of Clubs\nRound: 20\nPlayer One has a Jack of Clubs and wins against Player Two's Three of Diamonds\nRound: 21\nPlayer One has a Ten of Diamonds and wins against Player Two's Eight of Hearts\nRound: 22\nPlayer Two has a Ace of Spades and wins against Player One's Five of Diamonds\nRound: 23\nPlayer One has a Queen of Diamonds and wins against Player Two's Ten of Clubs\nRound: 24\nPlayer One has a Queen of Hearts and wins against Player Two's Four of Spades\nRound: 25\nPlayer One has a Ace of Hearts and wins against Player Two's Four of Hearts\nRound: 26\nPlayer Two has a King of Spades and wins against Player One's Nine of Clubs\nRound: 27\nPlayer One has a Eight of Diamonds and wins against Player Two's Two of Diamonds\nRound: 28\nPlayer Two has a Ace of Diamonds and wins against Player One's Five of Spades\nRound: 29\nPlayer One has a Queen of Spades and wins against Player Two's Four of Clubs\nRound: 30\nPlayer Two has a Ten of Spades and wins against Player One's Five of Hearts\nRound: 31\nPlayer One has a King of Clubs and wins against Player Two's Three of Spades\nRound: 32\nPlayer One has a King of Hearts and wins against Player Two's Seven of Hearts\nRound: 33\nWAR!\nPlayer Two has a Jack of Diamonds and wins against Player One's Eight of Spades\nRound: 34\nPlayer One has a Jack of Spades and wins against Player Two's Three of Hearts\nRound: 35\nPlayer Two has a King of Diamonds and wins against Player One's Nine of Hearts\nRound: 36\nPlayer One has a Nine of Diamonds and wins against Player Two's Six of Hearts\nRound: 37\nPlayer Two has a Seven of Clubs and wins against Player One's Four of Diamonds\nRound: 38\nPlayer One has a Six of Diamonds and wins against Player Two's Five of Diamonds\nRound: 39\nPlayer Two has a Ace of Spades and wins against Player One's Two of Hearts\nRound: 40\nPlayer Two has a Nine of Clubs and wins against Player One's Eight of Clubs\nRound: 41\nPlayer Two has a King of Spades and wins against Player One's Three of Clubs\nRound: 42\nWAR!\nPlayer Two has a Jack of Hearts and wins against Player One's Eight of Hearts\nRound: 43\nWAR!\nPlayer Two has a Ace of Clubs and wins against Player One's Four of Hearts\nRound: 44\nPlayer One has a Eight of Diamonds and wins against Player Two's Seven of Diamonds\nRound: 45\nPlayer Two has a Ten of Hearts and wins against Player One's Two of Diamonds\nRound: 46\nPlayer One has a Queen of Spades and wins against Player Two's Nine of Spades\nRound: 47\nPlayer Two has a Jack of Diamonds and wins against Player One's Four of Clubs\nRound: 48\nPlayer One has a King of Clubs and wins against Player Two's Nine of Hearts\nRound: 49\nPlayer Two has a King of Diamonds and wins against Player One's Three of Spades\nRound: 50\nPlayer One has a King of Hearts and wins against Player Two's Four of Diamonds\nRound: 51\nWAR!\nPlayer One has a Six of Diamonds and wins against Player Two's Three of Clubs\nRound: 52\nPlayer Two has a King of Spades and wins against Player One's Five of Diamonds\nRound: 53\nPlayer One has a Eight of Diamonds and wins against Player Two's Five of Clubs\nRound: 54\nPlayer One has a Seven of Diamonds and wins against Player Two's Two of Clubs\nRound: 55\nPlayer One has a Queen of Spades and wins against Player Two's Jack of Clubs\nRound: 56\nPlayer One has a Nine of Spades and wins against Player Two's Three of Diamonds\nRound: 57\nPlayer One has a King of Clubs and wins against Player Two's Ten of Diamonds\nRound: 58\nPlayer One has a Nine of Hearts and wins against Player Two's Eight of Hearts\nRound: 59\nPlayer One has a King of Hearts and wins against Player Two's Five of Spades\nRound: 60\nPlayer Two has a Ace of Diamonds and wins against Player One's Four of Diamonds\nRound: 61\nPlayer One has a Seven of Hearts and wins against Player Two's Five of Hearts\nRound: 62\nPlayer One has a Jack of Spades and wins against Player Two's Ten of Spades\nRound: 63\nPlayer Two has a Six of Clubs and wins against Player One's Three of Hearts\nRound: 64\nPlayer Two has a Jack of Hearts and wins against Player One's Nine of Diamonds\nRound: 65\nPlayer Two has a Queen of Diamonds and wins against Player One's Six of Hearts\nRound: 66\nPlayer Two has a Ten of Clubs and wins against Player One's Six of Diamonds\nRound: 67\nPlayer Two has a Queen of Hearts and wins against Player One's Seven of Clubs\nRound: 68\nPlayer Two has a Four of Spades and wins against Player One's Two of Hearts\nRound: 69\nWAR!\nPlayer Two has a Eight of Spades and wins against Player One's Five of Clubs\nRound: 70\nPlayer One has a Seven of Diamonds and wins against Player Two's Six of Spades\nRound: 71\nPlayer Two has a Ace of Clubs and wins against Player One's Two of Clubs\nRound: 72\nPlayer One has a Queen of Spades and wins against Player Two's Two of Diamonds\nRound: 73\nPlayer One has a Jack of Clubs and wins against Player Two's Ten of Hearts\nRound: 74\nPlayer One has a Nine of Spades and wins against Player Two's Four of Clubs\nRound: 75\nPlayer Two has a Jack of Diamonds and wins against Player One's Three of Diamonds\nRound: 76\nPlayer One has a King of Clubs and wins against Player Two's Three of Spades\nRound: 77\nPlayer Two has a King of Diamonds and wins against Player One's Ten of Diamonds\nRound: 78\nPlayer One has a Nine of Hearts and wins against Player Two's Five of Diamonds\nRound: 79\nPlayer Two has a King of Spades and wins against Player One's Eight of Hearts\nRound: 80\nPlayer One has a King of Hearts and wins against Player Two's Four of Diamonds\nRound: 81\nPlayer Two has a Ace of Diamonds and wins against Player One's Five of Spades\nRound: 82\nPlayer One has a Seven of Hearts and wins against Player Two's Three of Hearts\nRound: 83\nPlayer Two has a Six of Clubs and wins against Player One's Five of Hearts\nRound: 84\nPlayer One has a Jack of Spades and wins against Player Two's Nine of Diamonds\nRound: 85\nPlayer Two has a Jack of Hearts and wins against Player One's Ten of Spades\nRound: 86\nPlayer One has a Seven of Diamonds and wins against Player Two's Six of Hearts\nRound: 87\nPlayer Two has a Queen of Diamonds and wins against Player One's Six of Spades\nRound: 88\nPlayer One has a Queen of Spades and wins against Player Two's Six of Diamonds\nRound: 89\nPlayer Two has a Ten of Clubs and wins against Player One's Two of Diamonds\nRound: 90\nPlayer One has a Jack of Clubs and wins against Player Two's Seven of Clubs\nRound: 91\nPlayer Two has a Queen of Hearts and wins against Player One's Ten of Hearts\nRound: 92\nPlayer One has a Nine of Spades and wins against Player Two's Two of Hearts\nRound: 93\nWAR!\nPlayer One has a King of Hearts and wins against Player Two's Eight of Diamonds\nRound: 94\nPlayer Two has a Five of Clubs and wins against Player One's Four of Diamonds\nRound: 95\nPlayer Two has a Ace of Hearts and wins against Player One's Seven of Hearts\nRound: 96\nPlayer Two has a Four of Hearts and wins against Player One's Three of Hearts\nRound: 97\nPlayer Two has a Queen of Clubs and wins against Player One's Jack of Spades\nRound: 98\nPlayer One has a Nine of Diamonds and wins against Player Two's Seven of Spades\nRound: 99\nPlayer One has a Seven of Diamonds and wins against Player Two's Two of Spades\nRound: 100\nPlayer Two has a Eight of Spades and wins against Player One's Six of Hearts\nRound: 101\nPlayer One has a Queen of Spades and wins against Player Two's Two of Clubs\nRound: 102\nPlayer Two has a Ace of Clubs and wins against Player One's Six of Diamonds\nRound: 103\nPlayer One has a Jack of Clubs and wins against Player Two's Three of Diamonds\nRound: 104\nPlayer Two has a Jack of Diamonds and wins against Player One's Seven of Clubs\nRound: 105\nPlayer Two has a Ten of Diamonds and wins against Player One's Nine of Spades\nRound: 106\nPlayer Two has a King of Diamonds and wins against Player One's Two of Hearts\nRound: 107\nPlayer Two has a Eight of Hearts and wins against Player One's Four of Clubs\nRound: 108\nWAR!\nPlayer Two has a Ten of Spades and wins against Player One's Four of Spades\nRound: 109\nPlayer One has a Ace of Spades and wins against Player Two's Jack of Hearts\nRound: 110\nPlayer One has a Eight of Clubs and wins against Player Two's Six of Spades\nRound: 111\nPlayer Two has a Queen of Diamonds and wins against Player One's Nine of Clubs\nRound: 112\nPlayer One has a Three of Clubs and wins against Player Two's Two of Diamonds\nRound: 113\nPlayer Two has a Ten of Clubs and wins against Player One's Eight of Diamonds\nRound: 114\nPlayer Two has a Ten of Hearts and wins against Player One's Nine of Diamonds\nRound: 115\nPlayer Two has a Queen of Hearts and wins against Player One's Seven of Spades\nRound: 116\nPlayer One has a Seven of Diamonds and wins against Player Two's Four of Diamonds\nRound: 117\nPlayer Two has a Five of Clubs and wins against Player One's Two of Spades\nRound: 118\nPlayer One has a Queen of Spades and wins against Player Two's Seven of Hearts\nRound: 119\nPlayer Two has a Ace of Hearts and wins against Player One's Two of Clubs\nRound: 120\nPlayer One has a Jack of Clubs and wins against Player Two's Three of Hearts\nRound: 121\nPlayer Two has a Four of Hearts and wins against Player One's Three of Diamonds\nRound: 122\nPlayer One has a Ace of Spades and wins against Player Two's Jack of Spades\nRound: 123\nPlayer Two has a Queen of Clubs and wins against Player One's Jack of Hearts\nRound: 124\nPlayer One has a Eight of Clubs and wins against Player Two's Six of Hearts\nRound: 125\nPlayer Two has a Eight of Spades and wins against Player One's Six of Spades\nRound: 126\nPlayer Two has a Six of Diamonds and wins against Player One's Three of Clubs\nRound: 127\nPlayer Two has a Ace of Clubs and wins against Player One's Two of Diamonds\nRound: 128\nWAR!\nPlayer Two has a King of Diamonds and wins against Player One's Three of Hearts\nRound: 129\nPlayer One has a Ace of Spades and wins against Player Two's Four of Clubs\nRound: 130\nPlayer One has a Jack of Spades and wins against Player Two's Eight of Hearts\nRound: 131\nPlayer Two has a King of Clubs and wins against Player One's Eight of Clubs\nRound: 132\nPlayer One has a Six of Hearts and wins against Player Two's Three of Spades\nRound: 133\nPlayer One has a Ace of Spades and wins against Player Two's Nine of Hearts\nRound: 134\nPlayer Two has a Five of Diamonds and wins against Player One's Four of Clubs\nRound: 135\nPlayer Two has a King of Hearts and wins against Player One's Jack of Spades\nRound: 136\nPlayer One has a Eight of Hearts and wins against Player Two's Four of Spades\nRound: 137\nPlayer Two has a King of Spades and wins against Player One's Six of Hearts\nRound: 138\nPlayer Two has a Five of Spades and wins against Player One's Three of Spades\nRound: 139\nWAR!\nPlayer One cannot wage war\nPlayer Two Wins!\n"
     ]
    }
   ],
   "source": [
    "player_one = Player('One')\n",
    "player_two = Player('Two')\n",
    "\n",
    "new_deck = Deck()\n",
    "new_deck.shuffle()\n",
    "\n",
    "for x in range(26):\n",
    "    player_one.add_cards(new_deck.deal_one())\n",
    "    player_two.add_cards(new_deck.deal_one())\n",
    "\n",
    "game_on = True\n",
    "\n",
    "round_num = 0\n",
    "\n",
    "while game_on:\n",
    "    round_num += 1\n",
    "    print(f\"Round: {round_num}\")\n",
    "\n",
    "    if len(player_one.all_cards) == 0:\n",
    "        print('Player One loses')\n",
    "        game_on = False\n",
    "        break\n",
    "\n",
    "    if len(player_two.all_cards) == 0:\n",
    "        print('Player Two loses')\n",
    "        game_on = False\n",
    "        break\n",
    "\n",
    "    #START A NEW ROUND\n",
    "    player_one_cards = []\n",
    "    player_one_cards.append(player_one.remove_one())\n",
    "\n",
    "    player_two_cards = []\n",
    "    player_two_cards.append(player_two.remove_one())\n",
    "\n",
    "\n",
    "    # while at_war\n",
    "\n",
    "    at_war = True\n",
    "    while at_war:\n",
    "        if player_one_cards[-1].value > player_two_cards[-1].value:\n",
    "            player_one.add_cards(player_one_cards)\n",
    "            player_one.add_cards(player_two_cards)\n",
    "            print(\"Player One has a {} and wins against Player Two's {}\".format(player_one_cards[-1],player_two_cards[-1]))\n",
    "            at_war = False\n",
    "        elif player_one_cards[-1].value < player_two_cards[-1].value:\n",
    "            player_two.add_cards(player_one_cards)\n",
    "            player_two.add_cards(player_two_cards)\n",
    "            print(\"Player Two has a {} and wins against Player One's {}\".format(player_two_cards[-1],player_one_cards[-1]))\n",
    "            at_war = False\n",
    "        else:\n",
    "            print('WAR!')\n",
    "\n",
    "            if len(player_one.all_cards) < 5:\n",
    "                print(\"Player One cannot wage war\")\n",
    "                print(\"Player Two Wins!\")\n",
    "                game_on = False\n",
    "                break\n",
    "\n",
    "            elif len(player_two.all_cards) < 5:\n",
    "                print(\"Player Two cannot wage war\")\n",
    "                print(\"Player One Wins!\")\n",
    "                game_on = False\n",
    "                break\n",
    "\n",
    "            else:\n",
    "                for num in range(5):\n",
    "                    player_one_cards.append(player_one.remove_one())\n",
    "                    player_two_cards.append(player_two.remove_one())"
   ]
  },
  {
   "cell_type": "code",
   "execution_count": null,
   "metadata": {},
   "outputs": [],
   "source": []
  }
 ]
}