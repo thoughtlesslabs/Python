{
 "metadata": {
  "language_info": {
   "codemirror_mode": {
    "name": "ipython",
    "version": 3
   },
   "file_extension": ".py",
   "mimetype": "text/x-python",
   "name": "python",
   "nbconvert_exporter": "python",
   "pygments_lexer": "ipython3",
   "version": "3.7.3"
  },
  "orig_nbformat": 2,
  "kernelspec": {
   "name": "python373jvsc74a57bd0916dbcbb3f70747c44a77c7bcd40155683ae19c65e1c03b4aa3499c5328201f1",
   "display_name": "Python 3.7.3 32-bit"
  }
 },
 "nbformat": 4,
 "nbformat_minor": 2,
 "cells": [
  {
   "cell_type": "code",
   "execution_count": 57,
   "metadata": {},
   "outputs": [],
   "source": [
    "mylist = [1,2,3]"
   ]
  },
  {
   "cell_type": "code",
   "execution_count": 58,
   "metadata": {},
   "outputs": [],
   "source": [
    "myset = set()"
   ]
  },
  {
   "cell_type": "code",
   "execution_count": 59,
   "metadata": {},
   "outputs": [],
   "source": [
    "class Dog():\n",
    "    \n",
    "    #Class Object Attribute\n",
    "    #Same for any class\n",
    "\n",
    "    species = 'mammal'\n",
    "\n",
    "    \n",
    "    #Methods inside of a class (functions outside of a class)\n",
    "    def __init__(self,breed,name,spots):\n",
    "        self.breed = breed\n",
    "        self.name = name\n",
    "        self.spots = spots\n",
    "\n",
    "    def bark(self,number):\n",
    "        for _ in range(0,number):\n",
    "            print('Bark! My name is {}'.format(self.name))\n",
    "        "
   ]
  },
  {
   "cell_type": "code",
   "execution_count": 60,
   "metadata": {},
   "outputs": [],
   "source": [
    "my_dog = Dog('Chiuaua','Spot',False)"
   ]
  },
  {
   "cell_type": "code",
   "execution_count": 61,
   "metadata": {},
   "outputs": [
    {
     "output_type": "execute_result",
     "data": {
      "text/plain": [
       "'mammal'"
      ]
     },
     "metadata": {},
     "execution_count": 61
    }
   ],
   "source": [
    "my_dog.species"
   ]
  },
  {
   "cell_type": "code",
   "execution_count": 62,
   "metadata": {},
   "outputs": [
    {
     "output_type": "stream",
     "name": "stdout",
     "text": [
      "Bark! My name is Spot\nBark! My name is Spot\nBark! My name is Spot\nBark! My name is Spot\nBark! My name is Spot\nBark! My name is Spot\nBark! My name is Spot\nBark! My name is Spot\nBark! My name is Spot\n"
     ]
    }
   ],
   "source": [
    "my_dog.bark(9)"
   ]
  },
  {
   "cell_type": "code",
   "execution_count": 63,
   "metadata": {},
   "outputs": [],
   "source": [
    "my_dog.name = 'Frankie'"
   ]
  },
  {
   "cell_type": "code",
   "execution_count": 64,
   "metadata": {},
   "outputs": [
    {
     "output_type": "error",
     "ename": "TypeError",
     "evalue": "bark() missing 1 required positional argument: 'number'",
     "traceback": [
      "\u001b[0;31m---------------------------------------------------------------------------\u001b[0m",
      "\u001b[0;31mTypeError\u001b[0m                                 Traceback (most recent call last)",
      "\u001b[0;32m<ipython-input-64-280d54abc289>\u001b[0m in \u001b[0;36m<module>\u001b[0;34m()\u001b[0m\n\u001b[0;32m----> 1\u001b[0;31m \u001b[0mmy_dog\u001b[0m\u001b[0;34m.\u001b[0m\u001b[0mbark\u001b[0m\u001b[0;34m(\u001b[0m\u001b[0;34m)\u001b[0m\u001b[0;34m\u001b[0m\u001b[0;34m\u001b[0m\u001b[0m\n\u001b[0m",
      "\u001b[0;31mTypeError\u001b[0m: bark() missing 1 required positional argument: 'number'"
     ]
    }
   ],
   "source": [
    "my_dog.bark()"
   ]
  },
  {
   "cell_type": "code",
   "execution_count": 66,
   "metadata": {},
   "outputs": [
    {
     "output_type": "execute_result",
     "data": {
      "text/plain": [
       "'Frankie'"
      ]
     },
     "metadata": {},
     "execution_count": 66
    }
   ],
   "source": [
    "my_dog.name"
   ]
  },
  {
   "cell_type": "code",
   "execution_count": 88,
   "metadata": {},
   "outputs": [],
   "source": [
    "class Circle():\n",
    "\n",
    "    pi = 3.14\n",
    "\n",
    "    def __init__(self,radius=1):\n",
    "        self.radius = radius\n",
    "        self.area = radius * radius * self.pi\n",
    "    \n",
    "    def get_circumference(self):\n",
    "        return self.radius*self.pi*2"
   ]
  },
  {
   "cell_type": "code",
   "execution_count": 89,
   "metadata": {},
   "outputs": [],
   "source": [
    "my_circle = Circle(5)"
   ]
  },
  {
   "cell_type": "code",
   "execution_count": 94,
   "metadata": {},
   "outputs": [
    {
     "output_type": "execute_result",
     "data": {
      "text/plain": [
       "31.400000000000002"
      ]
     },
     "metadata": {},
     "execution_count": 94
    }
   ],
   "source": [
    "my_circle.get_circumference()"
   ]
  },
  {
   "cell_type": "code",
   "execution_count": 95,
   "metadata": {},
   "outputs": [
    {
     "output_type": "execute_result",
     "data": {
      "text/plain": [
       "78.5"
      ]
     },
     "metadata": {},
     "execution_count": 95
    }
   ],
   "source": [
    "my_circle.area"
   ]
  },
  {
   "cell_type": "code",
   "execution_count": 91,
   "metadata": {},
   "outputs": [],
   "source": [
    "circle_2 = Circle()"
   ]
  },
  {
   "cell_type": "code",
   "execution_count": 92,
   "metadata": {},
   "outputs": [
    {
     "output_type": "execute_result",
     "data": {
      "text/plain": [
       "6.28"
      ]
     },
     "metadata": {},
     "execution_count": 92
    }
   ],
   "source": [
    "circle_2.get_circumference()"
   ]
  },
  {
   "cell_type": "code",
   "execution_count": 93,
   "metadata": {},
   "outputs": [
    {
     "output_type": "execute_result",
     "data": {
      "text/plain": [
       "3.14"
      ]
     },
     "metadata": {},
     "execution_count": 93
    }
   ],
   "source": [
    "circle_2.area"
   ]
  },
  {
   "source": [
    "Session 71"
   ],
   "cell_type": "markdown",
   "metadata": {}
  },
  {
   "cell_type": "code",
   "execution_count": 15,
   "metadata": {},
   "outputs": [],
   "source": [
    "class Animal():\n",
    "\n",
    "    def __init__(self):\n",
    "        print(\"ANIMAL CREATED\")\n",
    "\n",
    "    def who_am_i(self):\n",
    "        print(\"I am an animal\")\n",
    "    \n",
    "    def eat(self):\n",
    "        print(\"I am eating\")"
   ]
  },
  {
   "cell_type": "code",
   "execution_count": 16,
   "metadata": {},
   "outputs": [
    {
     "output_type": "stream",
     "name": "stdout",
     "text": [
      "ANIMAL CREATED\n"
     ]
    }
   ],
   "source": [
    "my_animal = Animal()"
   ]
  },
  {
   "cell_type": "code",
   "execution_count": 18,
   "metadata": {},
   "outputs": [
    {
     "output_type": "stream",
     "name": "stdout",
     "text": [
      "I am eating\n"
     ]
    }
   ],
   "source": [
    "my_animal.eat()"
   ]
  },
  {
   "cell_type": "code",
   "execution_count": 22,
   "metadata": {},
   "outputs": [],
   "source": [
    "class Dog(Animal):\n",
    "\n",
    "    def __init__(self):\n",
    "        Animal.__init__(self)\n",
    "        print(\"Dog Created\")\n",
    "\n",
    "    def who_am_i(self):\n",
    "        print(\"I am a dog!\")"
   ]
  },
  {
   "cell_type": "code",
   "execution_count": 23,
   "metadata": {},
   "outputs": [
    {
     "output_type": "stream",
     "name": "stdout",
     "text": [
      "ANIMAL CREATED\nDog Created\n"
     ]
    }
   ],
   "source": [
    "mydog = Dog()"
   ]
  },
  {
   "cell_type": "code",
   "execution_count": 25,
   "metadata": {},
   "outputs": [
    {
     "output_type": "stream",
     "name": "stdout",
     "text": [
      "I am a dog!\n"
     ]
    }
   ],
   "source": [
    "mydog.who_am_i()"
   ]
  },
  {
   "cell_type": "code",
   "execution_count": 26,
   "metadata": {},
   "outputs": [
    {
     "output_type": "stream",
     "name": "stdout",
     "text": [
      "ANIMAL CREATED\n"
     ]
    }
   ],
   "source": [
    "mycat = Animal()"
   ]
  },
  {
   "cell_type": "code",
   "execution_count": 28,
   "metadata": {},
   "outputs": [
    {
     "output_type": "stream",
     "name": "stdout",
     "text": [
      "I am an animal\n"
     ]
    }
   ],
   "source": [
    "mycat.who_am_i()"
   ]
  },
  {
   "source": [
    "Polymorphism"
   ],
   "cell_type": "markdown",
   "metadata": {}
  },
  {
   "cell_type": "code",
   "execution_count": 37,
   "metadata": {},
   "outputs": [],
   "source": [
    "class Dog():\n",
    "    \n",
    "    def __init__(self,name):\n",
    "        self.name = name\n",
    "\n",
    "    def speak(self):\n",
    "        return self.name + \" says woof!\""
   ]
  },
  {
   "cell_type": "code",
   "execution_count": 38,
   "metadata": {},
   "outputs": [],
   "source": [
    "class Cat():\n",
    "    \n",
    "    def __init__(self,name):\n",
    "        self.name = name\n",
    "\n",
    "    def speak(self):\n",
    "        return self.name + \" says meow!\""
   ]
  },
  {
   "cell_type": "code",
   "execution_count": 39,
   "metadata": {},
   "outputs": [],
   "source": [
    "niko = Dog(\"niko\")"
   ]
  },
  {
   "cell_type": "code",
   "execution_count": 40,
   "metadata": {},
   "outputs": [],
   "source": [
    "felix = Cat(\"felix\")"
   ]
  },
  {
   "cell_type": "code",
   "execution_count": 41,
   "metadata": {},
   "outputs": [
    {
     "output_type": "stream",
     "name": "stdout",
     "text": [
      "niko says woof!\n"
     ]
    }
   ],
   "source": [
    "print(niko.speak())"
   ]
  },
  {
   "cell_type": "code",
   "execution_count": 42,
   "metadata": {},
   "outputs": [
    {
     "output_type": "stream",
     "name": "stdout",
     "text": [
      "felix says meow!\n"
     ]
    }
   ],
   "source": [
    "print(felix.speak())"
   ]
  },
  {
   "cell_type": "code",
   "execution_count": 50,
   "metadata": {},
   "outputs": [
    {
     "output_type": "stream",
     "name": "stdout",
     "text": [
      "<__main__.Dog object at 0xb335c390>\nniko says woof!\n<__main__.Cat object at 0xb33a0770>\nfelix says meow!\n"
     ]
    }
   ],
   "source": [
    "for pet in [niko,felix]:\n",
    "\n",
    "    print(pet)\n",
    "    print(pet.speak())"
   ]
  },
  {
   "cell_type": "code",
   "execution_count": 45,
   "metadata": {},
   "outputs": [],
   "source": [
    "def pet_speak(pet):\n",
    "    print(pet.speak())"
   ]
  },
  {
   "cell_type": "code",
   "execution_count": 46,
   "metadata": {},
   "outputs": [
    {
     "output_type": "stream",
     "name": "stdout",
     "text": [
      "niko says woof!\n"
     ]
    }
   ],
   "source": [
    "pet_speak(niko)"
   ]
  },
  {
   "cell_type": "code",
   "execution_count": 47,
   "metadata": {},
   "outputs": [
    {
     "output_type": "stream",
     "name": "stdout",
     "text": [
      "felix says meow!\n"
     ]
    }
   ],
   "source": [
    "pet_speak(felix)"
   ]
  },
  {
   "cell_type": "code",
   "execution_count": 51,
   "metadata": {},
   "outputs": [],
   "source": [
    "class Animal():\n",
    "\n",
    "    def __init__(self,name):\n",
    "        self.name = name\n",
    "    \n",
    "    def speak(self):\n",
    "        raise NotImplementedError(\"Subclass must implement this abstract method\")"
   ]
  },
  {
   "cell_type": "code",
   "execution_count": 54,
   "metadata": {},
   "outputs": [],
   "source": [
    "class Dog(Animal):\n",
    "\n",
    "    def speak(self):\n",
    "        return self.name + \" says woof!\""
   ]
  },
  {
   "source": [
    "my_animal.speak()"
   ],
   "cell_type": "code",
   "metadata": {},
   "execution_count": 56,
   "outputs": [
    {
     "output_type": "execute_result",
     "data": {
      "text/plain": [
       "'Fido says woof!'"
      ]
     },
     "metadata": {},
     "execution_count": 56
    }
   ]
  },
  {
   "cell_type": "code",
   "execution_count": 65,
   "metadata": {},
   "outputs": [],
   "source": [
    "mylist = [1,2,3]"
   ]
  },
  {
   "cell_type": "code",
   "execution_count": 66,
   "metadata": {},
   "outputs": [
    {
     "output_type": "execute_result",
     "data": {
      "text/plain": [
       "3"
      ]
     },
     "metadata": {},
     "execution_count": 66
    }
   ],
   "source": [
    "len(mylist)"
   ]
  },
  {
   "cell_type": "code",
   "execution_count": 67,
   "metadata": {},
   "outputs": [],
   "source": [
    "class Sample():\n",
    "    pass"
   ]
  },
  {
   "cell_type": "code",
   "execution_count": 68,
   "metadata": {},
   "outputs": [],
   "source": [
    "mysample = Sample()"
   ]
  },
  {
   "cell_type": "code",
   "execution_count": 83,
   "metadata": {},
   "outputs": [],
   "source": [
    "class Book():\n",
    "\n",
    "    def __init__(self,title,author,pages):\n",
    "        self.title = title\n",
    "        self.author = author\n",
    "        self.pages = pages\n",
    "\n",
    "    def __str__(self):\n",
    "        return f\"{self.title} by {self.author}\"\n",
    "\n",
    "    def __len__(self):\n",
    "        return self.pages\n",
    "\n",
    "    def __del__(self):\n",
    "        print(\"A book object has been deleted\")"
   ]
  },
  {
   "cell_type": "code",
   "execution_count": 84,
   "metadata": {},
   "outputs": [],
   "source": [
    "b = Book('Python Rocks','Jose',200)"
   ]
  },
  {
   "cell_type": "code",
   "execution_count": 85,
   "metadata": {},
   "outputs": [
    {
     "output_type": "stream",
     "name": "stdout",
     "text": [
      "Python Rocks by Jose\n"
     ]
    }
   ],
   "source": [
    "print(b)"
   ]
  },
  {
   "cell_type": "code",
   "execution_count": 86,
   "metadata": {},
   "outputs": [
    {
     "output_type": "stream",
     "name": "stdout",
     "text": [
      "200\n"
     ]
    }
   ],
   "source": [
    "print(len(b))"
   ]
  },
  {
   "cell_type": "code",
   "execution_count": 87,
   "metadata": {},
   "outputs": [
    {
     "output_type": "stream",
     "name": "stdout",
     "text": [
      "A book object has been deleted\n"
     ]
    }
   ],
   "source": [
    "del b"
   ]
  },
  {
   "source": [
    "Homework Assignment"
   ],
   "cell_type": "markdown",
   "metadata": {}
  },
  {
   "cell_type": "code",
   "execution_count": null,
   "metadata": {},
   "outputs": [],
   "source": []
  }
 ]
}